{
 "cells": [
  {
   "cell_type": "code",
   "execution_count": 5,
   "metadata": {},
   "outputs": [],
   "source": [
    "from langchain.utilities import SQLDatabase\n",
    "from langchain.llms import OpenAI\n",
    "from langchain_experimental.sql import SQLDatabaseChain\n",
    "from langchain.prompts import PromptTemplate\n",
    "from langchain.prompts.chat import HumanMessagePromptTemplate\n",
    "from langchain.chat_models import ChatOpenAI\n",
    "from langchain.schema import HumanMessage, SystemMessage\n",
    "from langchain.chains import create_sql_query_chain\n",
    "from langchain_google_genai import GoogleGenerativeAI\n",
    "from dotenv import load_dotenv"
   ]
  },
  {
   "cell_type": "code",
   "execution_count": 4,
   "metadata": {},
   "outputs": [
    {
     "name": "stdout",
     "output_type": "stream",
     "text": [
      "Collecting langchain_experimental\n",
      "  Downloading langchain_experimental-0.0.64-py3-none-any.whl.metadata (1.7 kB)\n",
      "Collecting langchain-community<0.3.0,>=0.2.10 (from langchain_experimental)\n",
      "  Downloading langchain_community-0.2.11-py3-none-any.whl.metadata (2.7 kB)\n",
      "Requirement already satisfied: langchain-core<0.3.0,>=0.2.27 in c:\\users\\kiit\\appdata\\local\\programs\\python\\python39\\lib\\site-packages (from langchain_experimental) (0.2.28)\n",
      "Requirement already satisfied: PyYAML>=5.3 in c:\\users\\kiit\\appdata\\local\\programs\\python\\python39\\lib\\site-packages (from langchain-community<0.3.0,>=0.2.10->langchain_experimental) (6.0)\n",
      "Requirement already satisfied: SQLAlchemy<3,>=1.4 in c:\\users\\kiit\\appdata\\local\\programs\\python\\python39\\lib\\site-packages (from langchain-community<0.3.0,>=0.2.10->langchain_experimental) (2.0.16)\n",
      "Requirement already satisfied: aiohttp<4.0.0,>=3.8.3 in c:\\users\\kiit\\appdata\\local\\programs\\python\\python39\\lib\\site-packages (from langchain-community<0.3.0,>=0.2.10->langchain_experimental) (3.8.4)\n",
      "Requirement already satisfied: dataclasses-json<0.7,>=0.5.7 in c:\\users\\kiit\\appdata\\local\\programs\\python\\python39\\lib\\site-packages (from langchain-community<0.3.0,>=0.2.10->langchain_experimental) (0.6.7)\n",
      "Requirement already satisfied: langchain<0.3.0,>=0.2.12 in c:\\users\\kiit\\appdata\\local\\programs\\python\\python39\\lib\\site-packages (from langchain-community<0.3.0,>=0.2.10->langchain_experimental) (0.2.12)\n",
      "Requirement already satisfied: langsmith<0.2.0,>=0.1.0 in c:\\users\\kiit\\appdata\\local\\programs\\python\\python39\\lib\\site-packages (from langchain-community<0.3.0,>=0.2.10->langchain_experimental) (0.1.84)\n",
      "Requirement already satisfied: numpy<2,>=1 in c:\\users\\kiit\\appdata\\local\\programs\\python\\python39\\lib\\site-packages (from langchain-community<0.3.0,>=0.2.10->langchain_experimental) (1.24.2)\n",
      "Requirement already satisfied: requests<3,>=2 in c:\\users\\kiit\\appdata\\local\\programs\\python\\python39\\lib\\site-packages (from langchain-community<0.3.0,>=0.2.10->langchain_experimental) (2.32.3)\n",
      "Requirement already satisfied: tenacity!=8.4.0,<9.0.0,>=8.1.0 in c:\\users\\kiit\\appdata\\local\\programs\\python\\python39\\lib\\site-packages (from langchain-community<0.3.0,>=0.2.10->langchain_experimental) (8.2.2)\n",
      "Requirement already satisfied: jsonpatch<2.0,>=1.33 in c:\\users\\kiit\\appdata\\local\\programs\\python\\python39\\lib\\site-packages (from langchain-core<0.3.0,>=0.2.27->langchain_experimental) (1.33)\n",
      "Requirement already satisfied: packaging<25,>=23.2 in c:\\users\\kiit\\appdata\\local\\programs\\python\\python39\\lib\\site-packages (from langchain-core<0.3.0,>=0.2.27->langchain_experimental) (24.1)\n",
      "Requirement already satisfied: pydantic<3,>=1 in c:\\users\\kiit\\appdata\\local\\programs\\python\\python39\\lib\\site-packages (from langchain-core<0.3.0,>=0.2.27->langchain_experimental) (2.8.2)\n",
      "Requirement already satisfied: typing-extensions>=4.7 in c:\\users\\kiit\\appdata\\local\\programs\\python\\python39\\lib\\site-packages (from langchain-core<0.3.0,>=0.2.27->langchain_experimental) (4.12.2)\n",
      "Requirement already satisfied: attrs>=17.3.0 in c:\\users\\kiit\\appdata\\local\\programs\\python\\python39\\lib\\site-packages (from aiohttp<4.0.0,>=3.8.3->langchain-community<0.3.0,>=0.2.10->langchain_experimental) (22.2.0)\n",
      "Requirement already satisfied: charset-normalizer<4.0,>=2.0 in c:\\users\\kiit\\appdata\\local\\programs\\python\\python39\\lib\\site-packages (from aiohttp<4.0.0,>=3.8.3->langchain-community<0.3.0,>=0.2.10->langchain_experimental) (3.0.1)\n",
      "Requirement already satisfied: multidict<7.0,>=4.5 in c:\\users\\kiit\\appdata\\local\\programs\\python\\python39\\lib\\site-packages (from aiohttp<4.0.0,>=3.8.3->langchain-community<0.3.0,>=0.2.10->langchain_experimental) (6.0.4)\n",
      "Requirement already satisfied: async-timeout<5.0,>=4.0.0a3 in c:\\users\\kiit\\appdata\\local\\programs\\python\\python39\\lib\\site-packages (from aiohttp<4.0.0,>=3.8.3->langchain-community<0.3.0,>=0.2.10->langchain_experimental) (4.0.2)\n",
      "Requirement already satisfied: yarl<2.0,>=1.0 in c:\\users\\kiit\\appdata\\local\\programs\\python\\python39\\lib\\site-packages (from aiohttp<4.0.0,>=3.8.3->langchain-community<0.3.0,>=0.2.10->langchain_experimental) (1.9.2)\n",
      "Requirement already satisfied: frozenlist>=1.1.1 in c:\\users\\kiit\\appdata\\local\\programs\\python\\python39\\lib\\site-packages (from aiohttp<4.0.0,>=3.8.3->langchain-community<0.3.0,>=0.2.10->langchain_experimental) (1.3.3)\n",
      "Requirement already satisfied: aiosignal>=1.1.2 in c:\\users\\kiit\\appdata\\local\\programs\\python\\python39\\lib\\site-packages (from aiohttp<4.0.0,>=3.8.3->langchain-community<0.3.0,>=0.2.10->langchain_experimental) (1.3.1)\n",
      "Requirement already satisfied: marshmallow<4.0.0,>=3.18.0 in c:\\users\\kiit\\appdata\\local\\programs\\python\\python39\\lib\\site-packages (from dataclasses-json<0.7,>=0.5.7->langchain-community<0.3.0,>=0.2.10->langchain_experimental) (3.21.3)\n",
      "Requirement already satisfied: typing-inspect<1,>=0.4.0 in c:\\users\\kiit\\appdata\\local\\programs\\python\\python39\\lib\\site-packages (from dataclasses-json<0.7,>=0.5.7->langchain-community<0.3.0,>=0.2.10->langchain_experimental) (0.9.0)\n",
      "Requirement already satisfied: jsonpointer>=1.9 in c:\\users\\kiit\\appdata\\local\\programs\\python\\python39\\lib\\site-packages (from jsonpatch<2.0,>=1.33->langchain-core<0.3.0,>=0.2.27->langchain_experimental) (2.3)\n",
      "Requirement already satisfied: langchain-text-splitters<0.3.0,>=0.2.0 in c:\\users\\kiit\\appdata\\local\\programs\\python\\python39\\lib\\site-packages (from langchain<0.3.0,>=0.2.12->langchain-community<0.3.0,>=0.2.10->langchain_experimental) (0.2.2)\n",
      "Requirement already satisfied: orjson<4.0.0,>=3.9.14 in c:\\users\\kiit\\appdata\\local\\programs\\python\\python39\\lib\\site-packages (from langsmith<0.2.0,>=0.1.0->langchain-community<0.3.0,>=0.2.10->langchain_experimental) (3.10.6)\n",
      "Requirement already satisfied: annotated-types>=0.4.0 in c:\\users\\kiit\\appdata\\local\\programs\\python\\python39\\lib\\site-packages (from pydantic<3,>=1->langchain-core<0.3.0,>=0.2.27->langchain_experimental) (0.7.0)\n",
      "Requirement already satisfied: pydantic-core==2.20.1 in c:\\users\\kiit\\appdata\\local\\programs\\python\\python39\\lib\\site-packages (from pydantic<3,>=1->langchain-core<0.3.0,>=0.2.27->langchain_experimental) (2.20.1)\n",
      "Requirement already satisfied: idna<4,>=2.5 in c:\\users\\kiit\\appdata\\local\\programs\\python\\python39\\lib\\site-packages (from requests<3,>=2->langchain-community<0.3.0,>=0.2.10->langchain_experimental) (3.4)\n",
      "Requirement already satisfied: urllib3<3,>=1.21.1 in c:\\users\\kiit\\appdata\\local\\programs\\python\\python39\\lib\\site-packages (from requests<3,>=2->langchain-community<0.3.0,>=0.2.10->langchain_experimental) (1.26.14)\n",
      "Requirement already satisfied: certifi>=2017.4.17 in c:\\users\\kiit\\appdata\\local\\programs\\python\\python39\\lib\\site-packages (from requests<3,>=2->langchain-community<0.3.0,>=0.2.10->langchain_experimental) (2022.12.7)\n",
      "Requirement already satisfied: greenlet!=0.4.17 in c:\\users\\kiit\\appdata\\local\\programs\\python\\python39\\lib\\site-packages (from SQLAlchemy<3,>=1.4->langchain-community<0.3.0,>=0.2.10->langchain_experimental) (2.0.2)\n",
      "Requirement already satisfied: mypy-extensions>=0.3.0 in c:\\users\\kiit\\appdata\\local\\programs\\python\\python39\\lib\\site-packages (from typing-inspect<1,>=0.4.0->dataclasses-json<0.7,>=0.5.7->langchain-community<0.3.0,>=0.2.10->langchain_experimental) (1.0.0)\n",
      "Downloading langchain_experimental-0.0.64-py3-none-any.whl (204 kB)\n",
      "Downloading langchain_community-0.2.11-py3-none-any.whl (2.3 MB)\n",
      "   ---------------------------------------- 0.0/2.3 MB ? eta -:--:--\n",
      "   ------------------ --------------------- 1.0/2.3 MB 6.3 MB/s eta 0:00:01\n",
      "   ------------------ --------------------- 1.0/2.3 MB 6.3 MB/s eta 0:00:01\n",
      "   ---------------------------------------- 2.3/2.3 MB 4.2 MB/s eta 0:00:00\n",
      "Installing collected packages: langchain-community, langchain_experimental\n",
      "  Attempting uninstall: langchain-community\n",
      "    Found existing installation: langchain-community 0.2.6\n",
      "    Uninstalling langchain-community-0.2.6:\n",
      "      Successfully uninstalled langchain-community-0.2.6\n",
      "Successfully installed langchain-community-0.2.11 langchain_experimental-0.0.64\n",
      "Note: you may need to restart the kernel to use updated packages.\n"
     ]
    }
   ],
   "source": [
    "%pip install langchain_experimental"
   ]
  },
  {
   "cell_type": "code",
   "execution_count": 6,
   "metadata": {},
   "outputs": [
    {
     "data": {
      "text/plain": [
       "True"
      ]
     },
     "execution_count": 6,
     "metadata": {},
     "output_type": "execute_result"
    }
   ],
   "source": [
    "load_dotenv()"
   ]
  },
  {
   "cell_type": "code",
   "execution_count": 7,
   "metadata": {},
   "outputs": [],
   "source": [
    "llm = GoogleGenerativeAI(model=\"gemini-1.5-pro-latest\",temperature=0.5)"
   ]
  },
  {
   "cell_type": "code",
   "execution_count": 11,
   "metadata": {},
   "outputs": [
    {
     "ename": "ArgumentError",
     "evalue": "Could not parse SQLAlchemy URL from string 'mysql+pymysql:??root:dav123@host:3306/bankapp_db'",
     "output_type": "error",
     "traceback": [
      "\u001b[1;31m---------------------------------------------------------------------------\u001b[0m",
      "\u001b[1;31mArgumentError\u001b[0m                             Traceback (most recent call last)",
      "Cell \u001b[1;32mIn[11], line 8\u001b[0m\n\u001b[0;32m      5\u001b[0m database_schema \u001b[38;5;241m=\u001b[39m \u001b[38;5;124m'\u001b[39m\u001b[38;5;124mbankapp_db\u001b[39m\u001b[38;5;124m'\u001b[39m\n\u001b[0;32m      6\u001b[0m mysql_uri \u001b[38;5;241m=\u001b[39m \u001b[38;5;124mf\u001b[39m\u001b[38;5;124m\"\u001b[39m\u001b[38;5;124mmysql+pymysql:??\u001b[39m\u001b[38;5;132;01m{\u001b[39;00musername\u001b[38;5;132;01m}\u001b[39;00m\u001b[38;5;124m:\u001b[39m\u001b[38;5;132;01m{\u001b[39;00mpassword\u001b[38;5;132;01m}\u001b[39;00m\u001b[38;5;124m@host:\u001b[39m\u001b[38;5;132;01m{\u001b[39;00mport\u001b[38;5;132;01m}\u001b[39;00m\u001b[38;5;124m/\u001b[39m\u001b[38;5;132;01m{\u001b[39;00mdatabase_schema\u001b[38;5;132;01m}\u001b[39;00m\u001b[38;5;124m\"\u001b[39m\n\u001b[1;32m----> 8\u001b[0m db \u001b[38;5;241m=\u001b[39m \u001b[43mSQLDatabase\u001b[49m\u001b[38;5;241;43m.\u001b[39;49m\u001b[43mfrom_uri\u001b[49m\u001b[43m(\u001b[49m\u001b[43mmysql_uri\u001b[49m\u001b[43m,\u001b[49m\u001b[43m \u001b[49m\u001b[43msample_rows_in_table_info\u001b[49m\u001b[38;5;241;43m=\u001b[39;49m\u001b[38;5;241;43m2\u001b[39;49m\u001b[43m)\u001b[49m\n\u001b[0;32m      9\u001b[0m chain\u001b[38;5;241m=\u001b[39mcreate_sql_query_chain(llm, db)\n",
      "File \u001b[1;32mc:\\Users\\KIIT\\AppData\\Local\\Programs\\Python\\Python39\\lib\\site-packages\\langchain_community\\utilities\\sql_database.py:138\u001b[0m, in \u001b[0;36mfrom_uri\u001b[1;34m(cls, database_uri, engine_args, **kwargs)\u001b[0m\n\u001b[0;32m    130\u001b[0m \u001b[38;5;129m@classmethod\u001b[39m\n\u001b[0;32m    131\u001b[0m \u001b[38;5;28;01mdef\u001b[39;00m \u001b[38;5;21mfrom_uri\u001b[39m(\n\u001b[0;32m    132\u001b[0m     \u001b[38;5;28mcls\u001b[39m,\n\u001b[1;32m   (...)\u001b[0m\n\u001b[0;32m    135\u001b[0m     \u001b[38;5;241m*\u001b[39m\u001b[38;5;241m*\u001b[39mkwargs: Any,\n\u001b[0;32m    136\u001b[0m ) \u001b[38;5;241m-\u001b[39m\u001b[38;5;241m>\u001b[39m SQLDatabase:\n\u001b[0;32m    137\u001b[0m \u001b[38;5;250m    \u001b[39m\u001b[38;5;124;03m\"\"\"Construct a SQLAlchemy engine from URI.\"\"\"\u001b[39;00m\n\u001b[1;32m--> 138\u001b[0m     _engine_args \u001b[38;5;241m=\u001b[39m engine_args \u001b[38;5;129;01mor\u001b[39;00m {}\n\u001b[0;32m    139\u001b[0m     \u001b[38;5;28;01mreturn\u001b[39;00m \u001b[38;5;28mcls\u001b[39m(create_engine(database_uri, \u001b[38;5;241m*\u001b[39m\u001b[38;5;241m*\u001b[39m_engine_args), \u001b[38;5;241m*\u001b[39m\u001b[38;5;241m*\u001b[39mkwargs)\n",
      "File \u001b[1;32m<string>:2\u001b[0m, in \u001b[0;36mcreate_engine\u001b[1;34m(url, **kwargs)\u001b[0m\n",
      "File \u001b[1;32mc:\\Users\\KIIT\\AppData\\Local\\Programs\\Python\\Python39\\lib\\site-packages\\sqlalchemy\\util\\deprecations.py:281\u001b[0m, in \u001b[0;36mdeprecated_params.<locals>.decorate.<locals>.warned\u001b[1;34m(fn, *args, **kwargs)\u001b[0m\n\u001b[0;32m    274\u001b[0m     \u001b[38;5;28;01mif\u001b[39;00m m \u001b[38;5;129;01min\u001b[39;00m kwargs:\n\u001b[0;32m    275\u001b[0m         _warn_with_version(\n\u001b[0;32m    276\u001b[0m             messages[m],\n\u001b[0;32m    277\u001b[0m             versions[m],\n\u001b[0;32m    278\u001b[0m             version_warnings[m],\n\u001b[0;32m    279\u001b[0m             stacklevel\u001b[38;5;241m=\u001b[39m\u001b[38;5;241m3\u001b[39m,\n\u001b[0;32m    280\u001b[0m         )\n\u001b[1;32m--> 281\u001b[0m \u001b[38;5;28;01mreturn\u001b[39;00m fn(\u001b[38;5;241m*\u001b[39margs, \u001b[38;5;241m*\u001b[39m\u001b[38;5;241m*\u001b[39mkwargs)\n",
      "File \u001b[1;32mc:\\Users\\KIIT\\AppData\\Local\\Programs\\Python\\Python39\\lib\\site-packages\\sqlalchemy\\engine\\create.py:548\u001b[0m, in \u001b[0;36mcreate_engine\u001b[1;34m(url, **kwargs)\u001b[0m\n\u001b[0;32m    545\u001b[0m kwargs\u001b[38;5;241m.\u001b[39mpop(\u001b[38;5;124m\"\u001b[39m\u001b[38;5;124mempty_in_strategy\u001b[39m\u001b[38;5;124m\"\u001b[39m, \u001b[38;5;28;01mNone\u001b[39;00m)\n\u001b[0;32m    547\u001b[0m \u001b[38;5;66;03m# create url.URL object\u001b[39;00m\n\u001b[1;32m--> 548\u001b[0m u \u001b[38;5;241m=\u001b[39m \u001b[43m_url\u001b[49m\u001b[38;5;241;43m.\u001b[39;49m\u001b[43mmake_url\u001b[49m\u001b[43m(\u001b[49m\u001b[43murl\u001b[49m\u001b[43m)\u001b[49m\n\u001b[0;32m    550\u001b[0m u, plugins, kwargs \u001b[38;5;241m=\u001b[39m u\u001b[38;5;241m.\u001b[39m_instantiate_plugins(kwargs)\n\u001b[0;32m    552\u001b[0m entrypoint \u001b[38;5;241m=\u001b[39m u\u001b[38;5;241m.\u001b[39m_get_entrypoint()\n",
      "File \u001b[1;32mc:\\Users\\KIIT\\AppData\\Local\\Programs\\Python\\Python39\\lib\\site-packages\\sqlalchemy\\engine\\url.py:838\u001b[0m, in \u001b[0;36mmake_url\u001b[1;34m(name_or_url)\u001b[0m\n\u001b[0;32m    822\u001b[0m \u001b[38;5;250m\u001b[39m\u001b[38;5;124;03m\"\"\"Given a string, produce a new URL instance.\u001b[39;00m\n\u001b[0;32m    823\u001b[0m \n\u001b[0;32m    824\u001b[0m \u001b[38;5;124;03mThe format of the URL generally follows `RFC-1738\u001b[39;00m\n\u001b[1;32m   (...)\u001b[0m\n\u001b[0;32m    834\u001b[0m \n\u001b[0;32m    835\u001b[0m \u001b[38;5;124;03m\"\"\"\u001b[39;00m\n\u001b[0;32m    837\u001b[0m \u001b[38;5;28;01mif\u001b[39;00m \u001b[38;5;28misinstance\u001b[39m(name_or_url, \u001b[38;5;28mstr\u001b[39m):\n\u001b[1;32m--> 838\u001b[0m     \u001b[38;5;28;01mreturn\u001b[39;00m \u001b[43m_parse_url\u001b[49m\u001b[43m(\u001b[49m\u001b[43mname_or_url\u001b[49m\u001b[43m)\u001b[49m\n\u001b[0;32m    839\u001b[0m \u001b[38;5;28;01melse\u001b[39;00m:\n\u001b[0;32m    840\u001b[0m     \u001b[38;5;28;01mreturn\u001b[39;00m name_or_url\n",
      "File \u001b[1;32mc:\\Users\\KIIT\\AppData\\Local\\Programs\\Python\\Python39\\lib\\site-packages\\sqlalchemy\\engine\\url.py:898\u001b[0m, in \u001b[0;36m_parse_url\u001b[1;34m(name)\u001b[0m\n\u001b[0;32m    895\u001b[0m     \u001b[38;5;28;01mreturn\u001b[39;00m URL\u001b[38;5;241m.\u001b[39mcreate(name, \u001b[38;5;241m*\u001b[39m\u001b[38;5;241m*\u001b[39mcomponents)  \u001b[38;5;66;03m# type: ignore\u001b[39;00m\n\u001b[0;32m    897\u001b[0m \u001b[38;5;28;01melse\u001b[39;00m:\n\u001b[1;32m--> 898\u001b[0m     \u001b[38;5;28;01mraise\u001b[39;00m exc\u001b[38;5;241m.\u001b[39mArgumentError(\n\u001b[0;32m    899\u001b[0m         \u001b[38;5;124m\"\u001b[39m\u001b[38;5;124mCould not parse SQLAlchemy URL from string \u001b[39m\u001b[38;5;124m'\u001b[39m\u001b[38;5;132;01m%s\u001b[39;00m\u001b[38;5;124m'\u001b[39m\u001b[38;5;124m\"\u001b[39m \u001b[38;5;241m%\u001b[39m name\n\u001b[0;32m    900\u001b[0m     )\n",
      "\u001b[1;31mArgumentError\u001b[0m: Could not parse SQLAlchemy URL from string 'mysql+pymysql:??root:dav123@host:3306/bankapp_db'"
     ]
    }
   ],
   "source": [
    "host='localhost'\n",
    "port='3306'\n",
    "username= 'root'\n",
    "password ='dav123'\n",
    "database_schema = 'bankapp_db'\n",
    "mysql_uri = f\"mysql+pymysql:??{username}:{password}@host:{port}/{database_schema}\"\n",
    "\n",
    "db = SQLDatabase.from_uri(mysql_uri, sample_rows_in_table_info=2)\n",
    "chain=create_sql_query_chain(llm, db)"
   ]
  },
  {
   "cell_type": "code",
   "execution_count": 10,
   "metadata": {},
   "outputs": [
    {
     "ename": "NameError",
     "evalue": "name 'db' is not defined",
     "output_type": "error",
     "traceback": [
      "\u001b[1;31m---------------------------------------------------------------------------\u001b[0m",
      "\u001b[1;31mNameError\u001b[0m                                 Traceback (most recent call last)",
      "Cell \u001b[1;32mIn[10], line 1\u001b[0m\n\u001b[1;32m----> 1\u001b[0m \u001b[38;5;28mprint\u001b[39m(\u001b[43mdb\u001b[49m\u001b[38;5;241m.\u001b[39mdialect)\n\u001b[0;32m      2\u001b[0m \u001b[38;5;28mprint\u001b[39m(db\u001b[38;5;241m.\u001b[39mget_usable_table_names())\n\u001b[0;32m      3\u001b[0m db\u001b[38;5;241m.\u001b[39mrun(\u001b[38;5;124m\"\u001b[39m\u001b[38;5;124mSELECT COUNT(*) from customer LIMIT 10;\u001b[39m\u001b[38;5;124m\"\u001b[39m)\n",
      "\u001b[1;31mNameError\u001b[0m: name 'db' is not defined"
     ]
    }
   ],
   "source": [
    "print(db.dialect)\n",
    "print(db.get_usable_table_names())\n",
    "db.run(\"SELECT COUNT(*) from customer LIMIT 10;\")"
   ]
  },
  {
   "cell_type": "code",
   "execution_count": null,
   "metadata": {},
   "outputs": [],
   "source": [
    "response= chain.invoke({\"question\" : \"How many employees are there?\"})\n",
    "response"
   ]
  },
  {
   "cell_type": "code",
   "execution_count": null,
   "metadata": {},
   "outputs": [],
   "source": [
    "db.run(response)"
   ]
  },
  {
   "cell_type": "code",
   "execution_count": null,
   "metadata": {},
   "outputs": [],
   "source": [
    "response = chain.invoke({\"question\":\"How many customer are from Bronx\"})\n",
    "print(response)\n",
    "print(db.run(response))"
   ]
  },
  {
   "cell_type": "code",
   "execution_count": null,
   "metadata": {},
   "outputs": [],
   "source": [
    "response = chain.invoke({\"question\":\"Which state are customer most from\"})\n",
    "print(response)\n",
    "print(db.run(response))"
   ]
  },
  {
   "cell_type": "code",
   "execution_count": null,
   "metadata": {},
   "outputs": [],
   "source": [
    "response = chain.invoke({\"question\":\"top 5 customer who paid highest shipping charges\"})\n",
    "print(response)\n",
    "print(db.run(response))"
   ]
  },
  {
   "cell_type": "code",
   "execution_count": null,
   "metadata": {},
   "outputs": [],
   "source": []
  }
 ],
 "metadata": {
  "kernelspec": {
   "display_name": "Python 3",
   "language": "python",
   "name": "python3"
  },
  "language_info": {
   "codemirror_mode": {
    "name": "ipython",
    "version": 3
   },
   "file_extension": ".py",
   "mimetype": "text/x-python",
   "name": "python",
   "nbconvert_exporter": "python",
   "pygments_lexer": "ipython3",
   "version": "3.9.13"
  }
 },
 "nbformat": 4,
 "nbformat_minor": 2
}
