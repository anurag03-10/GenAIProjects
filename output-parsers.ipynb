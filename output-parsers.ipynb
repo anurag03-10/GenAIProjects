{
 "cells": [
  {
   "cell_type": "markdown",
   "metadata": {},
   "source": [
    "# Output Parsers"
   ]
  },
  {
   "cell_type": "markdown",
   "metadata": {},
   "source": [
    "language models output text.But many times you need more structured information. This is where output parsers come in.\n",
    "Output oarsers are classes that help structure language model responses. There are two main method an outpur parser must implement:\n",
    "\n",
    "Get Format Instruction : A method which returns a string  containing instructions for how the output of a language model should be formatted.\n",
    "\n",
    "Parse : A method which takes in a string ( assumed to be response from language model) and parse it into some structure."
   ]
  },
  {
   "cell_type": "code",
   "execution_count": 2,
   "metadata": {},
   "outputs": [],
   "source": [
    "from langchain.output_parsers import CommaSeparatedListOutputParser\n",
    "from langchain.prompts import PromptTemplate\n",
    "from langchain_google_genai import GoogleGenerativeAI\n",
    "from dotenv import load_dotenv"
   ]
  },
  {
   "cell_type": "code",
   "execution_count": 3,
   "metadata": {},
   "outputs": [
    {
     "data": {
      "text/plain": [
       "True"
      ]
     },
     "execution_count": 3,
     "metadata": {},
     "output_type": "execute_result"
    }
   ],
   "source": [
    "load_dotenv()"
   ]
  },
  {
   "cell_type": "code",
   "execution_count": 4,
   "metadata": {},
   "outputs": [],
   "source": [
    "model=GoogleGenerativeAI(model=\"gemini-1.5-pro-latest\",temperature=0)"
   ]
  },
  {
   "cell_type": "markdown",
   "metadata": {},
   "source": [
    "### CSV Parser"
   ]
  },
  {
   "cell_type": "code",
   "execution_count": 5,
   "metadata": {},
   "outputs": [],
   "source": [
    "output_parser = CommaSeparatedListOutputParser()\n",
    "\n",
    "format_instructions = output_parser.get_format_instructions()\n",
    "prompt= PromptTemplate(\n",
    "    template=\"List five places {places}.\\n{format_instructions}\",\n",
    "    input_variables=[\"places\"],\n",
    "    partial_variables={\"format_instructions\": format_instructions}\n",
    ")"
   ]
  },
  {
   "cell_type": "code",
   "execution_count": 8,
   "metadata": {},
   "outputs": [
    {
     "data": {
      "text/plain": [
       "'Manali, Ladakh, Shimla, Darjeeling, Andaman and Nicobar Islands \\n'"
      ]
     },
     "execution_count": 8,
     "metadata": {},
     "output_type": "execute_result"
    }
   ],
   "source": [
    "chain = prompt | model \n",
    "chain.invoke({\"places\":\"for summer tourism in india\"})"
   ]
  },
  {
   "cell_type": "code",
   "execution_count": 9,
   "metadata": {},
   "outputs": [
    {
     "data": {
      "text/plain": [
       "['Manali', 'Ladakh', 'Shimla', 'Darjeeling', 'Andaman and Nicobar Islands']"
      ]
     },
     "execution_count": 9,
     "metadata": {},
     "output_type": "execute_result"
    }
   ],
   "source": [
    "chain = prompt | model | output_parser\n",
    "chain.invoke({\"places\":\"for summer tourism in india\"})"
   ]
  },
  {
   "cell_type": "markdown",
   "metadata": {},
   "source": [
    "### JSON Parser"
   ]
  },
  {
   "cell_type": "code",
   "execution_count": 15,
   "metadata": {},
   "outputs": [],
   "source": [
    "from typing import List\n",
    "from langchain_core.output_parsers import JsonOutputParser\n",
    "from pydantic import BaseModel, Field"
   ]
  },
  {
   "cell_type": "code",
   "execution_count": 16,
   "metadata": {},
   "outputs": [],
   "source": [
    "class Travel(BaseModel):\n",
    "    place: str = Field(description=\"name of the places\")\n",
    "    description: str = Field(description=\"description of the place\")\n",
    "    activities:  str = Field(description=\"what to do in that place\")"
   ]
  },
  {
   "cell_type": "code",
   "execution_count": null,
   "metadata": {},
   "outputs": [],
   "source": []
  },
  {
   "cell_type": "code",
   "execution_count": 17,
   "metadata": {},
   "outputs": [
    {
     "data": {
      "text/plain": [
       "{'place': 'Manali, Himachal Pradesh',\n",
       " 'description': 'Nestled in the Himalayas, Manali offers a cool escape from the scorching summer heat. With snow-capped peaks, lush green valleys, and the Beas River flowing through, it provides a refreshing and picturesque setting.',\n",
       " 'activities': 'Enjoy adventure activities like trekking, paragliding, and river rafting. Explore ancient temples like Hidimba Devi Temple and Manu Temple. Take a scenic drive to Rohtang Pass and Solang Valley. Indulge in local cuisine and shop for handicrafts.'}"
      ]
     },
     "execution_count": 17,
     "metadata": {},
     "output_type": "execute_result"
    }
   ],
   "source": [
    "travel_query=\"Suggest a place in India for going on a trip this summer to avoid heat.\"\n",
    "#setup a parser + inject instruction into prompt template\n",
    "parser = JsonOutputParser(pydantic_object=Travel)\n",
    "prompt=PromptTemplate(\n",
    "    template=\"Answer the user query.\\n{format_instructions}\\n{query}\\n\",\n",
    "    input_variables=[\"places\"],\n",
    "    partial_variables={\"format_instructions\": parser.get_format_instructions()}\n",
    ")\n",
    "\n",
    "chain = prompt | model | parser\n",
    "\n",
    "chain.invoke({\"query\": travel_query})"
   ]
  },
  {
   "cell_type": "markdown",
   "metadata": {},
   "source": [
    "#### Without Pydantic"
   ]
  },
  {
   "cell_type": "code",
   "execution_count": 18,
   "metadata": {},
   "outputs": [],
   "source": [
    "travel_query=\"Suggest a place in India for going on a trip this summer to avoid heat.\"\n",
    "#setup a parser + inject instruction into prompt template\n",
    "parser = JsonOutputParser()\n",
    "prompt=PromptTemplate(\n",
    "    template=\"Answer the user query.\\n{format_instructions}\\n{query}\\n\",\n",
    "    input_variables=[\"places\"],\n",
    "    partial_variables={\"format_instructions\": parser.get_format_instructions()}\n",
    ")"
   ]
  },
  {
   "cell_type": "code",
   "execution_count": 19,
   "metadata": {},
   "outputs": [
    {
     "data": {
      "text/plain": [
       "{'query': 'Suggest a place in India for going on a trip this summer to avoid heat.',\n",
       " 'suggestion': 'Manali, Himachal Pradesh',\n",
       " 'reason': 'Nestled in the Himalayas, Manali offers a cool escape from the scorching summer heat. Enjoy pleasant weather, stunning mountain views, and adventure activities like trekking and paragliding.',\n",
       " 'alternative_suggestions': ['Shimla, Himachal Pradesh',\n",
       "  'Darjeeling, West Bengal',\n",
       "  'Gulmarg, Jammu & Kashmir',\n",
       "  'Leh Ladakh, Jammu & Kashmir']}"
      ]
     },
     "execution_count": 19,
     "metadata": {},
     "output_type": "execute_result"
    }
   ],
   "source": [
    "chain = prompt | model | parser\n",
    "\n",
    "chain.invoke({\"query\": travel_query})"
   ]
  },
  {
   "cell_type": "markdown",
   "metadata": {},
   "source": [
    "### Structured Output Parser"
   ]
  },
  {
   "cell_type": "code",
   "execution_count": 20,
   "metadata": {},
   "outputs": [],
   "source": [
    "from langchain.output_parsers import ResponseSchema, StructuredOutputParser"
   ]
  },
  {
   "cell_type": "code",
   "execution_count": 24,
   "metadata": {},
   "outputs": [],
   "source": [
    "response_schemas = [\n",
    "    ResponseSchema(name=\"answer\", description=\"answer to the user's question\"),\n",
    "    ResponseSchema(name=\"description\", description=\"Detailed description to the answer topic\"),\n",
    "    ResponseSchema(name=\"applications\", description=\"real world application of the answer topic\")\n",
    "]\n",
    "output_parser=StructuredOutputParser.from_response_schemas(response_schemas)"
   ]
  },
  {
   "cell_type": "code",
   "execution_count": 25,
   "metadata": {},
   "outputs": [],
   "source": [
    "format_instructions=output_parser.get_format_instructions()\n",
    "prompt=PromptTemplate(\n",
    "    template=\"Answer the user question as best as possible.\\n{format_instructions}\\n{question}\\n\",\n",
    "    input_variables=[\"question\"],\n",
    "    partial_variables={\"format_instructions\": format_instructions}\n",
    ")"
   ]
  },
  {
   "cell_type": "code",
   "execution_count": 26,
   "metadata": {},
   "outputs": [
    {
     "data": {
      "text/plain": [
       "{'answer': 'One of the most revolutionary healthcare inventions of the 21st century is **Artificial Intelligence (AI)**.',\n",
       " 'description': \"AI in healthcare encompasses the use of complex algorithms and software to mimic human cognition in analyzing, understanding, and interpreting complex medical data. It's not a single invention but a powerful technology with applications ranging from disease diagnosis and personalized treatment plans to drug discovery and robotic surgery.\",\n",
       " 'applications': 'Here are some real-world applications of AI in healthcare:\\n\\n* **Medical Imaging Analysis:** AI algorithms can analyze medical images like X-rays, CT scans, and MRIs to detect abnormalities with high accuracy, often surpassing human capabilities.\\n* **Drug Discovery and Development:** AI significantly speeds up the process of identifying potential drug candidates and predicting their effectiveness, leading to faster development of new treatments.\\n* **Personalized Medicine:** AI analyzes patient data, including medical history, genetics, and lifestyle factors, to create personalized treatment plans and predict disease risks.\\n* **Robotic Surgery:** AI-powered robotic systems assist surgeons in performing minimally invasive procedures with greater precision and control, leading to faster recovery times and fewer complications.\\n* **Virtual Health Assistants:** AI-powered chatbots and virtual assistants provide patients with 24/7 access to medical information, appointment scheduling, and medication reminders.'}"
      ]
     },
     "execution_count": 26,
     "metadata": {},
     "output_type": "execute_result"
    }
   ],
   "source": [
    "chain = prompt | model | output_parser\n",
    "chain.invoke({\"question\":\"Name an invention in healthcare that has caused revolution in 21st century\"})"
   ]
  },
  {
   "cell_type": "code",
   "execution_count": null,
   "metadata": {},
   "outputs": [],
   "source": []
  }
 ],
 "metadata": {
  "kernelspec": {
   "display_name": "Python 3",
   "language": "python",
   "name": "python3"
  },
  "language_info": {
   "codemirror_mode": {
    "name": "ipython",
    "version": 3
   },
   "file_extension": ".py",
   "mimetype": "text/x-python",
   "name": "python",
   "nbconvert_exporter": "python",
   "pygments_lexer": "ipython3",
   "version": "3.9.13"
  }
 },
 "nbformat": 4,
 "nbformat_minor": 2
}
