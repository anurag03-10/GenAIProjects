{
 "cells": [
  {
   "cell_type": "markdown",
   "metadata": {},
   "source": [
    "# Loaders and Spliters"
   ]
  },
  {
   "cell_type": "code",
   "execution_count": 2,
   "metadata": {},
   "outputs": [
    {
     "data": {
      "text/plain": [
       "[Document(metadata={'source': 'sample_text.txt'}, page_content=\"Pune at different points in time has been ruled by the Rashtrakuta dynasty, Ahmadnagar Sultanate, the Mughals, and the Adil Shahi dynasty. In the 18th century, the city was part of the Maratha Empire, and the seat of the Peshwas, the prime ministers of the Maratha Empire.[26] Pune was seized by the British East India Company in the Third Anglo-Maratha War; it gained municipal status in 1858, the year in which Crown rule began. Many historical landmarks like Shaniwarwada, Shinde Chhatri, and Vishrambaug Wada date to this era. Historical sites from different eras dot the city.\\n\\nPune has historically been a major cultural centre, with important figures like Dnyaneshwar, Shivaji, Tukaram, Baji Rao I, Balaji Baji Rao, Madhavrao I, Nana Fadnavis, Mahadev Govind Ranade, Gopal Krishna Gokhale, Mahatma Jyotirao Phule, Savitribai Phule, Gopal Ganesh Agarkar, Tarabai Shinde, Dhondo Keshav Karve, and Pandita Ramabai doing their life's work in Pune City or in an area that falls in Pune Metropolitan Region. Pune was a major centre of resistance to British Raj, with people like Gopal Krishna Gokhale, Bal Gangadhar Tilak and Vinayak Damodar Savarkar playing leading roles in struggle for Indian independence in their times.\\n\\nEtymology\\nFurther information: Puneri\\nThe earliest reference to Pune is an inscription on a Rashtrakuta Dynasty copper plate dated 937 CE, which refers to the town as Punya-Vishaya, meaning 'sacred news'.[27] By the 13th century, it had come to be known as Punawadi.[28]\\n\\nDuring the Rashtrakuta dynasty, the city was referred to as Punnaka and Punyapur. The copper plates of 758 and 768 CE show that the Yadava dynasty had renamed the city Punakavishaya and Punya Vishaya. 'Vishaya' means land, and 'Punaka' and 'Punya' mean holy. The city was known as Kasbe Pune when under the command of Maratha king Shivaji's father, Shahaji. Mughal emperor Aurangzeb renamed a small neighbourhood in central part of the old city as Muhiyabad (the only divergent naming) some time between 1703 and 1705 in memory of his great-grandson Muhi-ul-Milan, who died there. The name Muhiyabad was reverted soon after Aurangzeb's death.[15] Anglicized to Poona in 1857 by the English during British rule, the city's name was changed to Pune in 1978.\")]"
      ]
     },
     "execution_count": 2,
     "metadata": {},
     "output_type": "execute_result"
    }
   ],
   "source": [
    "from langchain.document_loaders import TextLoader\n",
    "loader = TextLoader(\"sample_text.txt\")\n",
    "doc = loader.load()\n",
    "doc"
   ]
  },
  {
   "cell_type": "code",
   "execution_count": 3,
   "metadata": {},
   "outputs": [
    {
     "data": {
      "text/plain": [
       "\"Pune at different points in time has been ruled by the Rashtrakuta dynasty, Ahmadnagar Sultanate, the Mughals, and the Adil Shahi dynasty. In the 18th century, the city was part of the Maratha Empire, and the seat of the Peshwas, the prime ministers of the Maratha Empire.[26] Pune was seized by the British East India Company in the Third Anglo-Maratha War; it gained municipal status in 1858, the year in which Crown rule began. Many historical landmarks like Shaniwarwada, Shinde Chhatri, and Vishrambaug Wada date to this era. Historical sites from different eras dot the city.\\n\\nPune has historically been a major cultural centre, with important figures like Dnyaneshwar, Shivaji, Tukaram, Baji Rao I, Balaji Baji Rao, Madhavrao I, Nana Fadnavis, Mahadev Govind Ranade, Gopal Krishna Gokhale, Mahatma Jyotirao Phule, Savitribai Phule, Gopal Ganesh Agarkar, Tarabai Shinde, Dhondo Keshav Karve, and Pandita Ramabai doing their life's work in Pune City or in an area that falls in Pune Metropolitan Region. Pune was a major centre of resistance to British Raj, with people like Gopal Krishna Gokhale, Bal Gangadhar Tilak and Vinayak Damodar Savarkar playing leading roles in struggle for Indian independence in their times.\\n\\nEtymology\\nFurther information: Puneri\\nThe earliest reference to Pune is an inscription on a Rashtrakuta Dynasty copper plate dated 937 CE, which refers to the town as Punya-Vishaya, meaning 'sacred news'.[27] By the 13th century, it had come to be known as Punawadi.[28]\\n\\nDuring the Rashtrakuta dynasty, the city was referred to as Punnaka and Punyapur. The copper plates of 758 and 768 CE show that the Yadava dynasty had renamed the city Punakavishaya and Punya Vishaya. 'Vishaya' means land, and 'Punaka' and 'Punya' mean holy. The city was known as Kasbe Pune when under the command of Maratha king Shivaji's father, Shahaji. Mughal emperor Aurangzeb renamed a small neighbourhood in central part of the old city as Muhiyabad (the only divergent naming) some time between 1703 and 1705 in memory of his great-grandson Muhi-ul-Milan, who died there. The name Muhiyabad was reverted soon after Aurangzeb's death.[15] Anglicized to Poona in 1857 by the English during British rule, the city's name was changed to Pune in 1978.\""
      ]
     },
     "execution_count": 3,
     "metadata": {},
     "output_type": "execute_result"
    }
   ],
   "source": [
    "doc[0].page_content"
   ]
  },
  {
   "cell_type": "markdown",
   "metadata": {},
   "source": [
    "### Transform Loader Example"
   ]
  },
  {
   "cell_type": "code",
   "execution_count": 6,
   "metadata": {},
   "outputs": [
    {
     "name": "stdout",
     "output_type": "stream",
     "text": [
      "ID: 511\n",
      "course_name: Complete Python Program - Exploring Data Science and Web Development\n",
      ": complete-python-program-in-data-science-web-development\n",
      "----------\n",
      "{'source': 'courses.csv', 'row': 0}\n",
      "ID: 504\n",
      "course_name: DSA to Development: A Complete Guide\n",
      ": dsa-to-development-coding-guide\n",
      "----------\n",
      "{'source': 'courses.csv', 'row': 1}\n",
      "ID: 503\n",
      "course_name: Mastering System Design: From Low-Level to High-Level Solutions\n",
      ": mastering-system-design-low-level-to-high-level-solutions\n",
      "----------\n",
      "{'source': 'courses.csv', 'row': 2}\n",
      "ID: 500\n",
      "course_name: MERN Full Stack Web Development\n",
      ": mern-full-stack-development-classroom\n",
      "----------\n",
      "{'source': 'courses.csv', 'row': 3}\n",
      "ID: 499\n",
      "course_name: DSA for Interview Preparation\n",
      ": dsa-interview-preparation-classroom\n",
      "----------\n",
      "{'source': 'courses.csv', 'row': 4}\n",
      "ID: 486\n",
      "course_name: Python Backend Development with Django - Live\n",
      ": py-dev-django\n",
      "----------\n",
      "{'source': 'courses.csv', 'row': 5}\n",
      "ID: 483\n",
      "course_name: DevOps Engineering - Planning to Production\n",
      ": devops-live\n",
      "----------\n",
      "{'source': 'courses.csv', 'row': 6}\n",
      "ID: 468\n",
      "course_name: CBSE Class 12 Computer Science\n",
      ": CS-12\n",
      "----------\n",
      "{'source': 'courses.csv', 'row': 7}\n",
      "ID: 463\n",
      "course_name: Data Structures & Algorithms in JavaScript - Self Paced\n",
      ": data-structures-and-algorithms-in-javascript\n",
      "----------\n",
      "{'source': 'courses.csv', 'row': 8}\n",
      "ID: 451\n",
      "course_name: Master Competitive Programming - Complete Beginner to Advanced\n",
      ": competitive-programming-cp\n",
      "----------\n",
      "{'source': 'courses.csv', 'row': 9}\n",
      "ID: 449\n",
      "course_name: Breaking into Product Management\n",
      ": breaking-into-product-management\n",
      "----------\n",
      "{'source': 'courses.csv', 'row': 10}\n",
      "ID: 439\n",
      "course_name: Complete Bootstrap Course For Beginners\n",
      ": bootstrap\n",
      "----------\n",
      "{'source': 'courses.csv', 'row': 11}\n",
      "ID: 432\n",
      "course_name: Complete Test Series for Product-Based Companies\n",
      ": complete-test-series-product-companies\n",
      "----------\n",
      "{'source': 'courses.csv', 'row': 12}\n",
      "ID: 422\n",
      "course_name: Complete Test Series for Service-Based Companies\n",
      ": service-test-series\n",
      "----------\n",
      "{'source': 'courses.csv', 'row': 13}\n",
      "ID: 405\n",
      "course_name: Complete Machine Learning & Data Science Program\n",
      ": data-science-live\n",
      "----------\n",
      "{'source': 'courses.csv', 'row': 14}\n",
      "ID: 404\n",
      "course_name: Data Science BootCamp\n",
      ": fork-data-science-course\n",
      "----------\n",
      "{'source': 'courses.csv', 'row': 15}\n",
      "ID: 402\n",
      "course_name: GATE CS & IT 2024\n",
      ": gate-live-course\n",
      "----------\n",
      "{'source': 'courses.csv', 'row': 16}\n",
      "ID: 393\n",
      "course_name: School Guide: Learning Roadmap For Young Geeks\n",
      ": school-guide-course\n",
      "----------\n",
      "{'source': 'courses.csv', 'row': 17}\n",
      "ID: 383\n",
      "course_name: Full Stack Bootcamp\n",
      ": full-stack-bootcamp\n",
      "----------\n",
      "{'source': 'courses.csv', 'row': 18}\n",
      "ID: 345\n",
      "course_name: Master JavaScript - Complete Beginner to Advanced\n",
      ": javascript\n",
      "----------\n",
      "{'source': 'courses.csv', 'row': 19}\n",
      "ID: 287\n",
      "course_name: Master C Programming with Data Structures\n",
      ": c-Programming-basic-to-advanced\n",
      "----------\n",
      "{'source': 'courses.csv', 'row': 20}\n",
      "ID: 270\n",
      "course_name: Master Java Programming - Complete Beginner to Advanced\n",
      ": Java-Programming-basic-to-advanced\n",
      "----------\n",
      "{'source': 'courses.csv', 'row': 21}\n",
      "ID: 261\n",
      "course_name: Data Structures & Algorithms in Python - Self Paced\n",
      ": Data-Structures-With-Python\n",
      "----------\n",
      "{'source': 'courses.csv', 'row': 22}\n",
      "ID: 256\n",
      "course_name: Python Programming Foundation - Self Paced\n",
      ": Python-Foundation\n",
      "----------\n",
      "{'source': 'courses.csv', 'row': 23}\n",
      "ID: 252\n",
      "course_name: OS DBMS CN for SDE Interview Preparation\n",
      ": SDE-theory\n",
      "----------\n",
      "{'source': 'courses.csv', 'row': 24}\n",
      "ID: 244\n",
      "course_name: Complete Interview Preparation - Self Paced\n",
      ": complete-interview-preparation\n",
      "----------\n",
      "{'source': 'courses.csv', 'row': 25}\n",
      "ID: 241\n",
      "course_name: Full Stack Development with React & Node JS - Live\n",
      ": full-stack-node\n",
      "----------\n",
      "{'source': 'courses.csv', 'row': 26}\n",
      "ID: 227\n",
      "course_name: JAVA Backend Development - Live\n",
      ": Java-backend-live\n",
      "----------\n",
      "{'source': 'courses.csv', 'row': 27}\n",
      "ID: 221\n",
      "course_name: Master C++ Programming - Complete Beginner to Advanced\n",
      ": cpp-programming-basic-to-advanced\n",
      "----------\n",
      "{'source': 'courses.csv', 'row': 28}\n",
      "ID: 204\n",
      "course_name: DSA Live for Working Professionals - Live\n",
      ": geeks-classes-live\n",
      "----------\n",
      "{'source': 'courses.csv', 'row': 29}\n",
      "ID: 198\n",
      "course_name: Data Structures and Algorithms - Self Paced\n",
      ": dsa-self-paced\n",
      "----------\n",
      "{'source': 'courses.csv', 'row': 30}\n",
      "ID: 172\n",
      "course_name: Fork Python Programming - Self Paced\n",
      ": fork-python\n",
      "----------\n",
      "{'source': 'courses.csv', 'row': 31}\n",
      "ID: 168\n",
      "course_name: Fork Java Programming - Self Paced\n",
      ": fork-java\n",
      "----------\n",
      "{'source': 'courses.csv', 'row': 32}\n",
      "ID: 167\n",
      "course_name: Fork CPP Programming - Self Paced\n",
      ": fork-cpp\n",
      "----------\n",
      "{'source': 'courses.csv', 'row': 33}\n"
     ]
    }
   ],
   "source": [
    "from langchain.document_loaders import CSVLoader\n",
    "\n",
    "loader=CSVLoader(\"courses.csv\")\n",
    "doc=loader.load()\n",
    "\n",
    "for d in doc:\n",
    "    content=d.page_content\n",
    "    metadata=d.metadata\n",
    "\n",
    "    print(content)\n",
    "    print(\"----------\")\n",
    "    print(metadata)"
   ]
  },
  {
   "cell_type": "markdown",
   "metadata": {},
   "source": [
    "### PDF Loader"
   ]
  },
  {
   "cell_type": "code",
   "execution_count": 8,
   "metadata": {},
   "outputs": [
    {
     "name": "stdout",
     "output_type": "stream",
     "text": [
      "Collecting pyPdf\n",
      "  Using cached pypdf-4.3.1-py3-none-any.whl.metadata (7.4 kB)\n",
      "Requirement already satisfied: typing_extensions>=4.0 in c:\\users\\kiit\\appdata\\local\\programs\\python\\python39\\lib\\site-packages (from pyPdf) (4.12.2)\n",
      "Downloading pypdf-4.3.1-py3-none-any.whl (295 kB)\n",
      "Installing collected packages: pyPdf\n",
      "Successfully installed pyPdf-4.3.1\n",
      "Note: you may need to restart the kernel to use updated packages.\n"
     ]
    }
   ],
   "source": [
    "%pip install pyPdf"
   ]
  },
  {
   "cell_type": "code",
   "execution_count": 9,
   "metadata": {},
   "outputs": [],
   "source": [
    "from langchain_community.document_loaders import PyPDFLoader\n",
    "\n",
    "loader = PyPDFLoader(\"HSBC_Dynamos_GenAI.pdf\")\n",
    "pages=loader.load()"
   ]
  },
  {
   "cell_type": "code",
   "execution_count": 10,
   "metadata": {},
   "outputs": [
    {
     "name": "stdout",
     "output_type": "stream",
     "text": [
      "------- Document # 1\n",
      "Team Name : HSBC Dynamos \n",
      "Problem Statement : Revolutionizing Credit Scoring with AI -Powered \n",
      "Personalization\n",
      "------- Document # 2\n",
      "Brief about the Idea :\n",
      "This project is replacing out the old way of calculating credit scores and building a brand new system. Like a futuristic detective \n",
      "solving a mystery, they use advanced computer programs i.e. Generate AI, similar to those that create realistic pictures, to \n",
      "analyse your financial situation in a whole new way .\n",
      "Here's the game -changer:\n",
      "•Forget just bank statements! They consider your social media activity and how you pay your bills, getting a more complete \n",
      "picture.\n",
      "•They become your personal financial coach, offering customized advice to improve your score.\n",
      "•Ever wondered \"what if\" you did something different? This system lets you see how your score would change based on your \n",
      "actions.\n",
      "•Confused about your score? No problem! They have a friendly AI assistant you can chat with to ask questions, like a virtual \n",
      "sidekick helping you navigate the credit score world.\n",
      "•Uploading your credit card statements is as easy as taking a selfie. This gives them all the details they need to paint a cle arer \n",
      "picture of your financial health and give you the most accurate score possible.\n",
      "In a nutshell, this project wants to make understanding and managing your credit score a piece of cake, not a confusing puzzl e. \n",
      "They achieve this by Generate AI technology and features that are easy for everyone to understand and use. This way, everyone\n",
      "can have a fair chance at a good credit score and a brighter financial future.\n",
      "------- Document # 3\n",
      "Opportunity :\n",
      "1. Innovation in Credit Scoring:\n",
      "Our approach leverages Generative AI to revolutionize credit scoring, incorporating alternative data sources and advanced feature s not commonly found in \n",
      "traditional models.\n",
      "2. Comprehensive User Engagement:\n",
      "The inclusion of personalized insights, real -time credit score simulation, NLP chatbot interaction, and explainable AI sets our model apart, creating a holistic \n",
      "and user -centric credit scoring experience.\n",
      "3. Alternative Data Integration:\n",
      "Unlike conventional models relying solely on financial data, our model integrates diverse sources, including social media act ivity, utility payments, and now, \n",
      "seamlessly imports credit card statements for a more comprehensive financial analysis.\n",
      "4. Automated Data Extraction:\n",
      "Our solution simplifies the user experience by allowing effortless uploading of credit card statements and employs automated data extraction, a unique \n",
      "feature streamlining the incorporation of transaction -level details.\n",
      "5. Future -Ready Integration:\n",
      "With multiple import options, including PDF/CSV uploads and potential API integration in the future, our model ensures adapta bility and scalability in the \n",
      "rapidly evolving financial technology landscape.\n",
      "6. Incorporating User Feedback:\n",
      "Continuous refinement based on user feedback is integral to our model's development, ensuring an evolving and user -responsive cr edit scoring system.\n",
      "7. Transparent Credit Decisions:\n",
      "The integration of Explainable AI ensures transparent credit score predictions, allowing users to understand and trust the fa ctors influencing their \n",
      "creditworthiness.\n",
      "8. Addressing Financial Health Holistically:\n",
      "Our model goes beyond a simple credit score by offering personalized insights, budget optimizations, and scenario -based simulati ons, providing users with \n",
      "actionable steps to improve their overall financial health.\n",
      "9. Unique Combination of Features:\n",
      "The combination of Generative AI, alternative data, seamless data importing, and a user -friendly interface positions our model u niquely in the market, \n",
      "offering a distinct and innovative solution to the credit scoring problem .\n",
      "------- Document # 4\n",
      "List of features offered by the solution :\n",
      "1. Generative AI-Enhanced Credit Scoring:\n",
      "•Leverage Generative AI for a personalized and dynamic credit score experience.\n",
      "•Incorporate alternative data sources, including social media activity and utility payments.\n",
      "2. Comprehensive User Input:\n",
      "•Allow users to input a wide range of financial data, covering demographics, credit history, financial status, and alternative data.\n",
      "•Alternative Data Sources Integration:\n",
      "•Integrate social media activity and utility payments for a holistic credit scoring model.\n",
      "3. Real -time Credit Score Simulation:\n",
      "•Enable users to simulate the impact of various financial decisions on their credit score in real -time.\n",
      "4. NLP Chatbot Interaction:\n",
      "•Implement a Natural Language Processing (NLP) chatbot for interactive user engagement.\n",
      "•Provide explanations for credit score changes and offer financial tips in a conversational manner.\n",
      "5. Explainable AI (XAI):\n",
      "•Integrate Explainable AI for transparent and interpretable credit score predictions.\n",
      "•Offer users insights into the factors influencing their credit score changes.\n",
      "6. Credit Card Statement Import:\n",
      "•Allow users to seamlessly import credit card statements for enhanced credit analysis.\n",
      "•Provide options for manual entry, file upload (PDF/CSV), and potential future API integration.\n",
      "7. Automated Data Extraction:\n",
      "•Implement automated data extraction from credit card statements using OCR or text extraction techniques.\n",
      "•Extract transaction details, dates, merchants, amounts, and other relevant information for analysis.\n",
      "8. Enhanced Credit Score Analysis:\n",
      "•Utilize additional transaction details for more refined credit score predictions.\n",
      "•Consider features like merchant categories, transaction frequency, and spending patterns for a granular analysis .\n",
      "------- Document # 5\n",
      "Process Flow Diagram / Usecase Diagram:\n",
      "------- Document # 6\n",
      "Technology used :\n",
      "Here's how Google GenAI tools can be leveraged in our project:\n",
      "1. Personalized Insights (Partially):\n",
      "Training the Generative AI model: We can utilize Google's AI Platform, specifically Vertex AI, to train our Generative AI model for analyzing user data. \n",
      "Vertex AI provides tools for managing the entire machine learning lifecycle, including data preparation, model training, and deployment.\n",
      "2. Dynamic Credit Score Simulation (Partially):\n",
      "Generating hypothetical scenarios:  While the core functionality of simulating credit score changes might not directly involve GenAI , but we can potentially \n",
      "use GenAI to generate text descriptions of the simulated scenarios in a user -friendly manner .\n",
      "3. Natural Language Processing (NLP) Chatbot:\n",
      "Training the chatbot : Google's Dialogflow is a powerful NLP platform that can be used to build and train our chatbot . Dialogflow allows us to design \n",
      "conversation flows, train the bot on our specific data, and integrate it with our web application.\n",
      "Here's why other functionalities don't directly involve GenAI tools: \n",
      "• Credit Card Statement Import: This involves data processing and integration, not text or code generation.\n",
      "• Explainable AI (XAI): While XAI is crucial for our project, it doesn't directly involve generating new content, which is GenAI's core strength.\n",
      "Additional considerations:\n",
      "• Vertex AI and Dialogflow are part of Google Cloud, not directly GenAI tools. However, they utilize Generative AI principles under the hood.\n",
      "• We’ll also explore other Google Cloud services like BigQuery for data storage and management, and Cloud Functions for serverless functionalities in \n",
      "our project.\n",
      "• By combining these tools with our custom functionalities, we can create a comprehensive and user -friendly credit analysis experi ence.\n",
      "------- Document # 7\n",
      "Estimated cost of/after implementing the solution :\n",
      "If using Google Cloud Platform (GCP), costs for:\n",
      "•Vertex AI: Training and running the Generative AI model for personalized insights.\n",
      "•Dialogflow : Building and deploying the NLP chatbot .\n",
      "•Cloud Storage: Storing user data and credit card statements (if applicable).\n",
      "•Compute resources: Running your application and APIs.\n",
      "------- Document # 8\n",
      "\n"
     ]
    }
   ],
   "source": [
    "cnt=0\n",
    "for page in pages:\n",
    "    cnt +=1\n",
    "    print(\"------- Document #\", cnt)\n",
    "    print(page.page_content.strip())"
   ]
  },
  {
   "cell_type": "markdown",
   "metadata": {},
   "source": [
    "### WebBase Loader"
   ]
  },
  {
   "cell_type": "code",
   "execution_count": 11,
   "metadata": {},
   "outputs": [
    {
     "name": "stderr",
     "output_type": "stream",
     "text": [
      "USER_AGENT environment variable not set, consider setting it to identify your requests.\n"
     ]
    }
   ],
   "source": [
    "from langchain_community.document_loaders import WebBaseLoader\n",
    "\n",
    "loader = WebBaseLoader(\"https://www.ibm.com/in-en\")\n",
    "data = loader.load()"
   ]
  },
  {
   "cell_type": "code",
   "execution_count": 12,
   "metadata": {},
   "outputs": [
    {
     "data": {
      "text/plain": [
       "\"\\n\\n\\n\\n\\n\\n\\n\\n\\nIBM - India\\n\\n\\n\\n\\n\\n\\n\\n\\n\\n\\n\\n\\n\\n\\n\\n\\n\\n\\n\\n\\n\\n\\n\\n\\n\\n\\n\\n\\n\\n\\n\\n\\n\\n\\n\\n\\n\\n\\n\\n\\n\\n\\n\\n\\n\\n\\n\\n\\n\\n\\n\\n\\n\\n\\n\\nFortify your data, systems and enterprise with\\xa0security AI\\n\\n\\n\\n \\n\\n\\n  \\n  \\n      Deploy AI-infused cybersecurity solutions that prevent breaches and evolve with your business\\n  \\n\\n\\n\\n\\n    \\n\\n\\n\\n\\n\\nRead Cost of a Data Breach 2024\\n\\n\\nExplore AI cybersecurity solutions\\n\\n\\n\\n\\n\\n\\r\\n                                \\n\\n\\n  \\n  \\n      Latest news\\n  \\n\\n\\n\\n\\n    \\n\\n\\r\\n                            \\n\\nIBM Report: Escalating Data Breach Disruption Pushes Average Cost of a Data Breach in India to All-Time High of INR 195 Million in 2024\\n\\n\\n\\n\\n\\nIBM to launch a GenAI Innovation Center in Kochi\\n\\n\\n\\n\\n\\nIBM and the Government of Gujarat sign MoU to establish AI Cluster in GIFT City to drive AI innovation and collaboration\\n\\n\\n\\n\\n\\nIBM Study: Indian CEOs Say There Is No Effective AI Without Effective Governance, But Most Don’t Have the Policies in Place Yet\\n\\n\\n\\n\\n\\nIBM and Microsoft Collaborate to Launch Experience Zone in Bangalore\\n\\n\\n\\n\\n\\n76% of Indian enterprises intend to boost investments in Gen AI to enhance sustainability efforts—moving beyond just “doing sustainability’: IBM Study\\n\\n\\n\\n\\n\\nIBM and C-DAC aim to accelerate India’s processor design and manufacturing capabilities for High Performance Computing (HPC)\\n\\n\\n\\n\\n\\nIBM expands Technology Expert Labs in India to accelerate adoption of Generative AI and other key technologies\\n\\n\\n\\n\\n\\n\\n\\n\\n\\n\\n\\n\\n\\n\\n\\n\\n\\nRecommended for you\\n\\n\\n\\n\\n\\n\\n\\n\\n\\n\\n\\n\\n\\n\\n\\n\\n\\n\\n\\n\\n    \\n\\n    \\n    \\n\\n\\n\\n        \\n        \\n    \\n\\n        High-speed, resilient, easy-to-manage storage\\n        \\n    \\n\\n\\n\\n    \\n\\n\\n\\n        \\n\\n\\n\\n\\n\\n\\n\\n\\n\\n    \\n\\n    \\n    \\n\\n\\n\\n        \\n        \\n    \\n\\n        Drive top-line revenue and enhance productivity with a 360-degree view of sales activity\\n        \\n    \\n\\n\\n\\n    \\n\\n\\n\\n        \\n\\n\\n\\n\\n\\n\\n\\n\\n\\n\\n\\n\\n\\n\\n\\n\\n\\n\\n    \\n\\n    \\n    \\n\\n\\n\\n        \\n        \\n    \\n\\n        Automatically observe, monitor and fix your entire application stack with IBM Instana\\n        \\n    \\n\\n\\n\\n    \\n\\n\\n\\n        \\n\\n\\n\\n\\n\\n\\n\\n\\n\\n\\n\\n\\n\\n\\n\\n\\n\\n\\n    \\n\\n    \\n    \\n\\n\\n\\n        \\n        \\n    \\n\\n        Understand what would it take to trust the output of an AI model\\n        \\n    \\n\\n\\n\\n    \\n\\n\\n\\n        \\n\\n\\n\\n\\n\\n\\n\\n\\n\\n\\n\\n\\n            \\n\\n\\n\\n  \\n    Browse our technology\\n\\n\\n\\n\\n\\n\\n    \\n\\n\\n        \\n\\n\\nFrom our flagship products for enterprise\\xa0hybrid cloud infrastructure\\xa0to next-generation AI, security and storage solutions, find the answer to your business challenge.\\n\\n\\n\\n\\n\\n                View all products\\n                \\n            \\n\\n\\n\\n                Meet watsonx\\n                \\n            \\n\\n\\n\\n\\n\\n\\n\\n\\n\\n\\n                        \\n                        AI & machine learning\\n\\n\\n\\nUse IBM Watsonx’s AI or build your own machine learning models\\n\\n\\n\\n\\n\\n\\n\\n\\n                        \\n                        Analytics\\n\\n\\n\\nAggregate and analyze large datasets\\n\\n\\n\\n\\n\\n\\n\\n\\n                        \\n                        Compute & servers\\n\\n\\n\\nRun workloads on hybrid cloud infrastructure\\n\\n\\n\\n\\n\\n\\n\\n\\n                        \\n                        Databases\\n\\n\\n\\nStore, query and analyze structured data\\n\\n\\n\\n\\n\\n\\n\\n\\n                        \\n                        DevOps\\n\\n\\n\\nManage infrastructure, environments and deployments\\n\\n\\n\\n\\n\\n\\n\\n\\n                        \\n                        IT automation\\n\\n\\n\\nAutomate IT infrastructure management\\n\\n\\n\\n\\n\\n\\n\\n\\n                        \\n                        Quantum\\n\\n\\n\\nRun code on real quantum systems using a full-stack SDK\\n\\n\\n\\n\\n\\n\\n\\n\\n                        \\n                        Security & identity\\n\\n\\n\\nCloud-native software to secure resources and simplify compliance\\n\\n\\n\\n\\n\\n\\n\\n\\n\\n\\n\\n\\n\\n\\n\\n\\n\\n\\n\\n\\n\\n\\n\\n\\n\\n                    Case Study\\n                \\n\\n                    Enhancing inventory visibility with a modernized order management system\\n                \\n\\n                    Aditya Birla Fashion Retail Limited (ABFRL) deploys the omnichannel order fulfillment solution IBM Sterling Order Management to address order fulfillment and inventory management issues.\\n                \\n\\nLearn more\\n\\n\\n\\n\\n\\n\\n\\n\\n\\n            \\n\\n\\n\\n  \\n    Meet our global consultants\\n\\n\\n\\n\\n\\n\\n    \\n\\n\\n        \\n\\n\\nBringing together a diverse set of voices with new technology, we collaborate closely, ideate freely and swiftly apply breakthrough innovations that drive big impact.\\n\\n\\n\\n\\n\\n                View IBM Consulting\\n                \\n            \\n\\n\\n\\n\\n\\n\\n\\n\\n\\n\\n\\n\\n\\n\\n\\n\\n\\n\\n\\n\\n\\n\\n\\n\\n\\n\\n            \\n\\n\\n\\n  \\n    Inside IBM\\n\\n\\n\\n\\n\\n\\n    \\n\\n\\n        \\n\\n\\nSolving the world’s problems through technology wouldn’t be possible without our most important invention: the IBMer. Have a look at our talented teams.\\n\\n\\n\\n\\n\\n                About IBM\\n                \\n            \\n\\n\\n\\n\\n\\n\\n\\n\\n\\n\\n\\n\\n\\n\\n\\n\\n\\n\\n\\n\\n\\n\\n\\n            Careers at IBM\\n        \\n\\n            From safer food supply to ethical AI, tackle the world's toughest problems\\n        \\n\\n\\n\\n\\n\\n\\n\\n\\n\\n\\n\\n\\n\\n\\n\\n\\n\\n            IBM Research\\n        \\n\\n            See the latest technology developed by IBM scientists and design thinkers\\n        \\n\\n\\n\\n\\n\\n\\n\\n\\n\\n\\n\\n\\n\\n\\n\\n\\n\\n            Training and skills\\n        \\n\\n            Power your future in tech with job skills, courses and credentials—for free\\n        \\n\\n\\n\\n\\n\\n\\n\\n\\n\\n\\n\\n\\n\\n\\n\\n\\n\\n            Corporate social responsibility\\n        \\n\\n             IBM aspires to make a positive impact on the world and the places where we work and live\\n        \\n\\n\\n\\n\\n\\n\\n\\n\\n\\n\\n\\n\\n\\n\\n\\n\\n\\n\\n\\n\\n\\n\\n\\n\\n\\n\\n\\n\\n\\n\\n\\n\\n\\n\\n\\n\\n\\n\\n\\n\\n\\n\\n\\n\\n\\n\\n\\n\\n\\n\\n\\n\\n\\n\\n\\n\\n\""
      ]
     },
     "execution_count": 12,
     "metadata": {},
     "output_type": "execute_result"
    }
   ],
   "source": [
    "data[0].page_content"
   ]
  },
  {
   "cell_type": "code",
   "execution_count": 20,
   "metadata": {},
   "outputs": [
    {
     "data": {
      "text/plain": [
       "\"IBM - India\\n\\n\\n\\n\\n\\n\\n\\n\\n\\n\\n\\n\\n\\n\\n\\n\\n\\n\\n\\n\\n\\n\\n\\n\\n\\n\\n\\nFortify your data, systems and enterprise with\\xa0security AI\\n\\n \\n\\n  \\n  \\n      Deploy AI-infused cybersecurity solutions that prevent breaches and evolve with your business\\n  \\n\\n\\n    \\n\\n\\nRead Cost of a Data Breach 2024\\n\\nExplore AI cybersecurity solutions\\n\\n\\n\\r\\n                                \\n\\n  \\n  \\n      Latest news\\n  \\n\\n\\n    \\n\\r\\n                            \\nIBM Report: Escalating Data Breach Disruption Pushes Average Cost of a Data Breach in India to All-Time High of INR 195 Million in 2024\\n\\n\\nIBM to launch a GenAI Innovation Center in Kochi\\n\\n\\nIBM and the Government of Gujarat sign MoU to establish AI Cluster in GIFT City to drive AI innovation and collaboration\\n\\n\\nIBM Study: Indian CEOs Say There Is No Effective AI Without Effective Governance, But Most Don’t Have the Policies in Place Yet\\n\\n\\nIBM and Microsoft Collaborate to Launch Experience Zone in Bangalore\\n\\n\\n76% of Indian enterprises intend to boost investments in Gen AI to enhance sustainability efforts—moving beyond just “doing sustainability’: IBM Study\\n\\n\\nIBM and C-DAC aim to accelerate India’s processor design and manufacturing capabilities for High Performance Computing (HPC)\\n\\n\\nIBM expands Technology Expert Labs in India to accelerate adoption of Generative AI and other key technologies\\n\\n\\n\\n\\n\\n\\n\\n\\nRecommended for you\\n\\n\\n\\n\\n\\n\\n\\n\\n\\n\\n    \\n    \\n    \\n\\n        \\n        \\n    \\n        High-speed, resilient, easy-to-manage storage\\n        \\n    \\n\\n    \\n\\n        \\n\\n\\n\\n\\n    \\n    \\n    \\n\\n        \\n        \\n    \\n        Drive top-line revenue and enhance productivity with a 360-degree view of sales activity\\n        \\n    \\n\\n    \\n\\n        \\n\\n\\n\\n\\n\\n\\n\\n\\n\\n    \\n    \\n    \\n\\n        \\n        \\n    \\n        Automatically observe, monitor and fix your entire application stack with IBM Instana\\n        \\n    \\n\\n    \\n\\n        \\n\\n\\n\\n\\n\\n\\n\\n\\n\\n    \\n    \\n    \\n\\n        \\n        \\n    \\n        Understand what would it take to trust the output of an AI model\\n        \\n    \\n\\n    \\n\\n        \\n\\n\\n\\n\\n\\n\\n            \\n\\n  \\n    Browse our technology\\n\\n\\n\\n    \\n\\n        \\n\\nFrom our flagship products for enterprise\\xa0hybrid cloud infrastructure\\xa0to next-generation AI, security and storage solutions, find the answer to your business challenge.\\n\\n\\n                View all products\\n                \\n            \\n\\n                Meet watsonx\\n                \\n            \\n\\n\\n\\n\\n\\n                        \\n                        AI & machine learning\\n\\nUse IBM Watsonx’s AI or build your own machine learning models\\n\\n\\n\\n\\n                        \\n                        Analytics\\n\\nAggregate and analyze large datasets\\n\\n\\n\\n\\n                        \\n                        Compute & servers\\n\\nRun workloads on hybrid cloud infrastructure\\n\\n\\n\\n\\n                        \\n                        Databases\\n\\nStore, query and analyze structured data\\n\\n\\n\\n\\n                        \\n                        DevOps\\n\\nManage infrastructure, environments and deployments\\n\\n\\n\\n\\n                        \\n                        IT automation\\n\\nAutomate IT infrastructure management\\n\\n\\n\\n\\n                        \\n                        Quantum\\n\\nRun code on real quantum systems using a full-stack SDK\\n\\n\\n\\n\\n                        \\n                        Security & identity\\n\\nCloud-native software to secure resources and simplify compliance\\n\\n\\n\\n\\n\\n\\n\\n\\n\\n\\n\\n\\n                    Case Study\\n                \\n                    Enhancing inventory visibility with a modernized order management system\\n                \\n                    Aditya Birla Fashion Retail Limited (ABFRL) deploys the omnichannel order fulfillment solution IBM Sterling Order Management to address order fulfillment and inventory management issues.\\n                \\nLearn more\\n\\n\\n\\n\\n            \\n\\n  \\n    Meet our global consultants\\n\\n\\n\\n    \\n\\n        \\n\\nBringing together a diverse set of voices with new technology, we collaborate closely, ideate freely and swiftly apply breakthrough innovations that drive big impact.\\n\\n\\n                View IBM Consulting\\n                \\n            \\n\\n\\n\\n\\n\\n\\n\\n\\n\\n\\n\\n\\n\\n            \\n\\n  \\n    Inside IBM\\n\\n\\n\\n    \\n\\n        \\n\\nSolving the world’s problems through technology wouldn’t be possible without our most important invention: the IBMer. Have a look at our talented teams.\\n\\n\\n                About IBM\\n                \\n            \\n\\n\\n\\n\\n\\n\\n\\n\\n\\n\\n\\n            Careers at IBM\\n        \\n            From safer food supply to ethical AI, tackle the world's toughest problems\\n        \\n\\n\\n\\n\\n\\n\\n\\n\\n            IBM Research\\n        \\n            See the latest technology developed by IBM scientists and design thinkers\\n        \\n\\n\\n\\n\\n\\n\\n\\n\\n            Training and skills\\n        \\n            Power your future in tech with job skills, courses and credentials—for free\\n        \\n\\n\\n\\n\\n\\n\\n\\n\\n            Corporate social responsibility\\n        \\n             IBM aspires to make a positive impact on the world and the places where we work and live\""
      ]
     },
     "execution_count": 20,
     "metadata": {},
     "output_type": "execute_result"
    }
   ],
   "source": [
    "formatted_text = data[0].page_content.strip().replace(\"\\n\\n\",\"\\n\")\n",
    "formatted_text"
   ]
  },
  {
   "cell_type": "code",
   "execution_count": 21,
   "metadata": {},
   "outputs": [
    {
     "data": {
      "text/plain": [
       "\"IBM - India Fortify your data, systems and enterprise with security AI Deploy AI-infused cybersecurity solutions that prevent breaches and evolve with your business Read Cost of a Data Breach 2024 Explore AI cybersecurity solutions Latest news IBM Report: Escalating Data Breach Disruption Pushes Average Cost of a Data Breach in India to All-Time High of INR 195 Million in 2024 IBM to launch a GenAI Innovation Center in Kochi IBM and the Government of Gujarat sign MoU to establish AI Cluster in GIFT City to drive AI innovation and collaboration IBM Study: Indian CEOs Say There Is No Effective AI Without Effective Governance, But Most Don’t Have the Policies in Place Yet IBM and Microsoft Collaborate to Launch Experience Zone in Bangalore 76% of Indian enterprises intend to boost investments in Gen AI to enhance sustainability efforts—moving beyond just “doing sustainability’: IBM Study IBM and C-DAC aim to accelerate India’s processor design and manufacturing capabilities for High Performance Computing (HPC) IBM expands Technology Expert Labs in India to accelerate adoption of Generative AI and other key technologies Recommended for you High-speed, resilient, easy-to-manage storage Drive top-line revenue and enhance productivity with a 360-degree view of sales activity Automatically observe, monitor and fix your entire application stack with IBM Instana Understand what would it take to trust the output of an AI model Browse our technology From our flagship products for enterprise hybrid cloud infrastructure to next-generation AI, security and storage solutions, find the answer to your business challenge. View all products Meet watsonx AI & machine learning Use IBM Watsonx’s AI or build your own machine learning models Analytics Aggregate and analyze large datasets Compute & servers Run workloads on hybrid cloud infrastructure Databases Store, query and analyze structured data DevOps Manage infrastructure, environments and deployments IT automation Automate IT infrastructure management Quantum Run code on real quantum systems using a full-stack SDK Security & identity Cloud-native software to secure resources and simplify compliance Case Study Enhancing inventory visibility with a modernized order management system Aditya Birla Fashion Retail Limited (ABFRL) deploys the omnichannel order fulfillment solution IBM Sterling Order Management to address order fulfillment and inventory management issues. Learn more Meet our global consultants Bringing together a diverse set of voices with new technology, we collaborate closely, ideate freely and swiftly apply breakthrough innovations that drive big impact. View IBM Consulting Inside IBM Solving the world’s problems through technology wouldn’t be possible without our most important invention: the IBMer. Have a look at our talented teams. About IBM Careers at IBM From safer food supply to ethical AI, tackle the world's toughest problems IBM Research See the latest technology developed by IBM scientists and design thinkers Training and skills Power your future in tech with job skills, courses and credentials—for free Corporate social responsibility IBM aspires to make a positive impact on the world and the places where we work and live\""
      ]
     },
     "execution_count": 21,
     "metadata": {},
     "output_type": "execute_result"
    }
   ],
   "source": [
    "import re\n",
    "\n",
    "cleaned_text = re.sub(r\"\\s+\",\" \", formatted_text) # replace multiples spaces with single space\n",
    "cleaned_text = re.sub(r\"\\n+\",\"\\n\\n\", cleaned_text) #limit newlines to two per paragraph\n",
    "cleaned_text"
   ]
  },
  {
   "cell_type": "markdown",
   "metadata": {},
   "source": [
    "### JSON Loader"
   ]
  },
  {
   "cell_type": "code",
   "execution_count": 22,
   "metadata": {},
   "outputs": [
    {
     "name": "stdout",
     "output_type": "stream",
     "text": [
      "Collecting jq\n",
      "  Using cached jq-1.7.0.tar.gz (2.0 MB)\n",
      "  Installing build dependencies: started\n",
      "  Installing build dependencies: finished with status 'done'\n",
      "  Getting requirements to build wheel: started\n",
      "  Getting requirements to build wheel: finished with status 'done'\n",
      "  Preparing metadata (pyproject.toml): started\n",
      "  Preparing metadata (pyproject.toml): finished with status 'done'\n",
      "Building wheels for collected packages: jq\n",
      "  Building wheel for jq (pyproject.toml): started\n",
      "  Building wheel for jq (pyproject.toml): finished with status 'error'\n",
      "Failed to build jq\n",
      "Note: you may need to restart the kernel to use updated packages.\n"
     ]
    },
    {
     "name": "stderr",
     "output_type": "stream",
     "text": [
      "  error: subprocess-exited-with-error\n",
      "  \n",
      "  × Building wheel for jq (pyproject.toml) did not run successfully.\n",
      "  │ exit code: 1\n",
      "  ╰─> [5 lines of output]\n",
      "      running bdist_wheel\n",
      "      running build\n",
      "      running build_ext\n",
      "      Executing: ./configure CFLAGS=-fPIC -pthread --disable-maintainer-mode --with-oniguruma=builtin\n",
      "      error: [WinError 2] The system cannot find the file specified\n",
      "      [end of output]\n",
      "  \n",
      "  note: This error originates from a subprocess, and is likely not a problem with pip.\n",
      "  ERROR: Failed building wheel for jq\n",
      "ERROR: ERROR: Failed to build installable wheels for some pyproject.toml based projects (jq)\n"
     ]
    }
   ],
   "source": [
    "%pip install jq"
   ]
  },
  {
   "cell_type": "code",
   "execution_count": 23,
   "metadata": {},
   "outputs": [],
   "source": [
    "from langchain_community.document_loaders import JSONLoader\n",
    "\n",
    "import json\n",
    "from pathlib import Path\n",
    "from pprint import pprint\n",
    "\n",
    "file_path='sample.json'\n",
    "data = json.loads(Path(file_path).read_text())"
   ]
  },
  {
   "cell_type": "code",
   "execution_count": 24,
   "metadata": {},
   "outputs": [
    {
     "data": {
      "text/plain": [
       "{'glossary': {'title': 'example glossary',\n",
       "  'GlossDiv': {'title': 'S',\n",
       "   'GlossList': {'GlossEntry': {'ID': 'SGML',\n",
       "     'SortAs': 'SGML',\n",
       "     'GlossTerm': 'Standard Generalized Markup Language',\n",
       "     'Acronym': 'SGML',\n",
       "     'Abbrev': 'ISO 8879:1986',\n",
       "     'GlossDef': {'para': 'A meta-markup language, used to create markup languages such as DocBook.',\n",
       "      'GlossSeeAlso': ['GML', 'XML']},\n",
       "     'GlossSee': 'markup'}}}}}"
      ]
     },
     "execution_count": 24,
     "metadata": {},
     "output_type": "execute_result"
    }
   ],
   "source": [
    "data"
   ]
  },
  {
   "cell_type": "code",
   "execution_count": 25,
   "metadata": {},
   "outputs": [
    {
     "ename": "ImportError",
     "evalue": "jq package not found, please install it with `pip install jq`",
     "output_type": "error",
     "traceback": [
      "\u001b[1;31m---------------------------------------------------------------------------\u001b[0m",
      "\u001b[1;31mModuleNotFoundError\u001b[0m                       Traceback (most recent call last)",
      "File \u001b[1;32mc:\\Users\\KIIT\\AppData\\Local\\Programs\\Python\\Python39\\lib\\site-packages\\langchain_community\\document_loaders\\json_loader.py:118\u001b[0m, in \u001b[0;36mJSONLoader.__init__\u001b[1;34m(self, file_path, jq_schema, content_key, is_content_key_jq_parsable, metadata_func, text_content, json_lines)\u001b[0m\n\u001b[0;32m    117\u001b[0m \u001b[38;5;28;01mtry\u001b[39;00m:\n\u001b[1;32m--> 118\u001b[0m     \u001b[38;5;28;01mimport\u001b[39;00m \u001b[38;5;21;01mjq\u001b[39;00m\n\u001b[0;32m    120\u001b[0m     \u001b[38;5;28mself\u001b[39m\u001b[38;5;241m.\u001b[39mjq \u001b[38;5;241m=\u001b[39m jq\n",
      "\u001b[1;31mModuleNotFoundError\u001b[0m: No module named 'jq'",
      "\nDuring handling of the above exception, another exception occurred:\n",
      "\u001b[1;31mImportError\u001b[0m                               Traceback (most recent call last)",
      "Cell \u001b[1;32mIn[25], line 1\u001b[0m\n\u001b[1;32m----> 1\u001b[0m loader \u001b[38;5;241m=\u001b[39m loader \u001b[38;5;241m=\u001b[39m \u001b[43mJSONLoader\u001b[49m\u001b[43m(\u001b[49m\n\u001b[0;32m      2\u001b[0m \u001b[43m    \u001b[49m\u001b[43mfile_path\u001b[49m\u001b[38;5;241;43m=\u001b[39;49m\u001b[38;5;124;43m\"\u001b[39;49m\u001b[38;5;124;43msample.json\u001b[39;49m\u001b[38;5;124;43m\"\u001b[39;49m\u001b[43m,\u001b[49m\n\u001b[0;32m      3\u001b[0m \u001b[43m    \u001b[49m\u001b[43mjq_schema\u001b[49m\u001b[38;5;241;43m=\u001b[39;49m\u001b[38;5;124;43m\"\u001b[39;49m\u001b[38;5;124;43m.GlossDef[].GlossSeeAlso\u001b[39;49m\u001b[38;5;124;43m\"\u001b[39;49m\u001b[43m,\u001b[49m\n\u001b[0;32m      4\u001b[0m \u001b[43m    \u001b[49m\u001b[43mtext_content\u001b[49m\u001b[38;5;241;43m=\u001b[39;49m\u001b[38;5;28;43;01mFalse\u001b[39;49;00m\u001b[43m)\u001b[49m\n\u001b[0;32m      5\u001b[0m data\u001b[38;5;241m=\u001b[39mloader\u001b[38;5;241m.\u001b[39mload()\n\u001b[0;32m      6\u001b[0m data\n",
      "File \u001b[1;32mc:\\Users\\KIIT\\AppData\\Local\\Programs\\Python\\Python39\\lib\\site-packages\\langchain_community\\document_loaders\\json_loader.py:122\u001b[0m, in \u001b[0;36mJSONLoader.__init__\u001b[1;34m(self, file_path, jq_schema, content_key, is_content_key_jq_parsable, metadata_func, text_content, json_lines)\u001b[0m\n\u001b[0;32m    120\u001b[0m     \u001b[38;5;28mself\u001b[39m\u001b[38;5;241m.\u001b[39mjq \u001b[38;5;241m=\u001b[39m jq\n\u001b[0;32m    121\u001b[0m \u001b[38;5;28;01mexcept\u001b[39;00m \u001b[38;5;167;01mImportError\u001b[39;00m:\n\u001b[1;32m--> 122\u001b[0m     \u001b[38;5;28;01mraise\u001b[39;00m \u001b[38;5;167;01mImportError\u001b[39;00m(\n\u001b[0;32m    123\u001b[0m         \u001b[38;5;124m\"\u001b[39m\u001b[38;5;124mjq package not found, please install it with `pip install jq`\u001b[39m\u001b[38;5;124m\"\u001b[39m\n\u001b[0;32m    124\u001b[0m     )\n\u001b[0;32m    126\u001b[0m \u001b[38;5;28mself\u001b[39m\u001b[38;5;241m.\u001b[39mfile_path \u001b[38;5;241m=\u001b[39m Path(file_path)\u001b[38;5;241m.\u001b[39mresolve()\n\u001b[0;32m    127\u001b[0m \u001b[38;5;28mself\u001b[39m\u001b[38;5;241m.\u001b[39m_jq_schema \u001b[38;5;241m=\u001b[39m jq\u001b[38;5;241m.\u001b[39mcompile(jq_schema)\n",
      "\u001b[1;31mImportError\u001b[0m: jq package not found, please install it with `pip install jq`"
     ]
    }
   ],
   "source": [
    "loader = loader = JSONLoader(\n",
    "    file_path=\"sample.json\",\n",
    "    jq_schema=\".GlossDef[].GlossSeeAlso\",\n",
    "    text_content=False)\n",
    "data=loader.load()\n",
    "data"
   ]
  },
  {
   "cell_type": "code",
   "execution_count": 26,
   "metadata": {},
   "outputs": [
    {
     "name": "stdout",
     "output_type": "stream",
     "text": [
      "Collecting jq\n",
      "  Using cached jq-1.7.0.tar.gz (2.0 MB)\n",
      "  Installing build dependencies: started\n",
      "  Installing build dependencies: finished with status 'done'\n",
      "  Getting requirements to build wheel: started\n",
      "  Getting requirements to build wheel: finished with status 'done'\n",
      "  Preparing metadata (pyproject.toml): started\n",
      "  Preparing metadata (pyproject.toml): finished with status 'done'\n",
      "Building wheels for collected packages: jq\n",
      "  Building wheel for jq (pyproject.toml): started\n",
      "  Building wheel for jq (pyproject.toml): finished with status 'error'\n",
      "Failed to build jq\n",
      "Note: you may need to restart the kernel to use updated packages.\n"
     ]
    },
    {
     "name": "stderr",
     "output_type": "stream",
     "text": [
      "  error: subprocess-exited-with-error\n",
      "  \n",
      "  × Building wheel for jq (pyproject.toml) did not run successfully.\n",
      "  │ exit code: 1\n",
      "  ╰─> [5 lines of output]\n",
      "      running bdist_wheel\n",
      "      running build\n",
      "      running build_ext\n",
      "      Executing: ./configure CFLAGS=-fPIC -pthread --disable-maintainer-mode --with-oniguruma=builtin\n",
      "      error: [WinError 2] The system cannot find the file specified\n",
      "      [end of output]\n",
      "  \n",
      "  note: This error originates from a subprocess, and is likely not a problem with pip.\n",
      "  ERROR: Failed building wheel for jq\n",
      "ERROR: ERROR: Failed to build installable wheels for some pyproject.toml based projects (jq)\n"
     ]
    }
   ],
   "source": [
    "%pip install jq"
   ]
  },
  {
   "cell_type": "markdown",
   "metadata": {},
   "source": [
    "### Wikipedia Loader"
   ]
  },
  {
   "cell_type": "code",
   "execution_count": 27,
   "metadata": {},
   "outputs": [
    {
     "data": {
      "text/plain": [
       "'Machine learning (ML) is a field of study in artificial intelligence concerned with the development and study of statistical algorithms that can learn from data and generalize to unseen data and thus perform tasks without explicit instructions. Recently, artificial neural networks have been able to surpass many previous approaches in performance.\\nML finds application in many fields, including natural language processing, computer vision, speech recognition, email filtering, agriculture, and medicine. When applied to business problems, it is known under the name predictive analytics. Although not all machine learning is statistically based, computational statistics is an important source of the field\\'s methods.\\nThe mathematical foundations of ML are provided by mathematical optimization (mathematical programming) methods. Data mining is a related (parallel) field of study, focusing on exploratory data analysis (EDA) through unsupervised learning. \\nFrom a theoretical viewpoint, probably approximately correct (PAC) learning provides a framework for describing machine learning.\\n\\n\\n== History ==\\n\\nThe term machine learning was coined in 1959 by Arthur Samuel, an IBM employee and pioneer in the field of computer gaming and artificial intelligence. The synonym self-teaching computers was also used in this time period.\\nAlthough the earliest machine learning model was introduced in the 1950s when Arthur Samuel invented a program that calculated the winning chance in checkers for each side, the history of machine learning roots back to decades of human desire and effort to study human cognitive processes. In 1949, Canadian psychologist Donald Hebb published the book The Organization of Behavior, in which he introduced a theoretical neural structure formed by certain interactions among nerve cells. Hebb\\'s model of neurons interacting with one another set a groundwork for how AIs and machine learning algorithms work under nodes, or artificial neurons used by computers to communicate data. Other researchers who have studied human cognitive systems contributed to the modern machine learning technologies as well, including logician Walter Pitts and Warren McCulloch, who proposed the early mathematical models of neural networks to come up with algorithms that mirror human thought processes.\\nBy the early 1960s an experimental \"learning machine\" with punched tape memory, called Cybertron, had been developed by Raytheon Company to analyze sonar signals, electrocardiograms, and speech patterns using rudimentary reinforcement learning. It was repetitively \"trained\" by a human operator/teacher to recognize patterns and equipped with a \"goof\" button to cause it to reevaluate incorrect decisions. A representative book on research into machine learning during the 1960s was Nilsson\\'s book on Learning Machines, dealing mostly with machine learning for pattern classification. Interest related to pattern recognition continued into the 1970s, as described by Duda and Hart in 1973. In 1981 a report was given on using teaching strategies so that an artificial neural network learns to recognize 40 characters (26 letters, 10 digits, and 4 special symbols) from a computer terminal.\\nTom M. Mitchell provided a widely quoted, more formal definition of the algorithms studied in the machine learning field: \"A computer program is said to learn from experience E with respect to some class of tasks T and performance measure P if its performance at tasks in T, as measured by P,  improves with experience E.\" This definition of the tasks in which machine learning is concerned offers a fundamentally operational definition rather than defining the field in cognitive terms. This follows Alan Turing\\'s proposal in his paper \"Computing Machinery and Intelligence\", in which the question \"Can machines think?\" is replaced with the question \"Can machines do what we (as thinking entities) can do?\".\\nModern-day machine learning has two objectives.  One is to classify data based on model'"
      ]
     },
     "execution_count": 27,
     "metadata": {},
     "output_type": "execute_result"
    }
   ],
   "source": [
    "from langchain.document_loaders import WikipediaLoader\n",
    "\n",
    "loader = WikipediaLoader(\"Machine Learning\")\n",
    "document=loader.load()\n",
    "\n",
    "document[0].page_content"
   ]
  },
  {
   "cell_type": "markdown",
   "metadata": {},
   "source": [
    "### IDMB"
   ]
  },
  {
   "cell_type": "code",
   "execution_count": 30,
   "metadata": {},
   "outputs": [
    {
     "data": {
      "text/plain": [
       "'30 MINUTES OR LESS\\r\\n\\r\\n\\r\\n\\r\\n\\r\\n                                     Written by\\r\\n\\r\\n                       Michael Diliberti & Matthew Sullivan\\r\\n\\r\\n                         \\r\\n\\r\\n                                                                 12-11-09\\r\\n\\r\\n          The following is very loosely based on some shit that actually\\r\\n          happened...\\r\\n                         OVER BLACK\\r\\n                         \\r\\n          We hear the roar of a V8 engine, piped out through some\\r\\n          throaty, fucked up muffler, as\\r\\n                         \\r\\n          EXT. HIGHWAY - DAY\\r\\n                         \\r\\n          An \\'89 Mustang bursts like a shot over a rise in the highway.\\r\\n          It\\'s got a rusted two-tone paint job, Maryland plates, and\\r\\n          bald tires that scream as it peels off an exit and into the\\r\\n                         \\r\\n          EXT. SUBURBS - DAY\\r\\n                         \\r\\n          The car fast approaches a stop sign, dangerously blows through\\r\\n          the intersection.\\r\\n                         \\r\\n          INT. MUSTANG - DAY - MOVING\\r\\n                         \\r\\n          We don\\'t see the DRIVER, only the redlining RPMs, Vans slip-\\r\\n          ons working the pedals, wristwatch being checked. The wheel\\r\\n          cranks right as the car turns onto a -\\r\\n                         \\r\\n          One way street. A minivan flies right at us. The Mustang\\r\\n          hops up onto the curb to avoid it, clips a trash can and -\\r\\n                         \\r\\n          Garbage explodes like confetti. The wipers engage, brushing\\r\\n          the trash aside. The car whips another turn and\\r\\n                         \\r\\n          EXT. SUBURBS - DAY\\r\\n                         \\r\\n          The Mustang fishtails around a corner and skids away.\\r\\n                         \\r\\n                          CUT TO:\\r\\n                         \\r\\n                         TIRES SCREECH\\r\\n                         \\r\\n          Brake pads smoke. The Mustang stops outside\\r\\n                         \\r\\n          EXT. HOUSE - DAY\\r\\n                         \\r\\n          The Driver jumps out of the car. As he rushes to the front\\r\\n          door, we see the urgent package he is delivering.\\r\\n                         \\r\\n          TWO LARGE PIZZAS\\r\\n                         \\r\\n          Before he can ring the bell, the door opens and two smug 15-\\r\\n          YEAR-OLDS stare out.\\r\\n                         \\r\\n                          15-YEAR-OLD\\r\\n           That\\'s 34 minutes. You\\'re 4 minutes\\r\\n           late. Pizza\\'s free.\\r\\n                         \\r\\n          REVEAL our guy staring back at the kids. This is WILL (25),\\r\\n          probably good looking in another life.\\r\\n           2.\\r\\n                         \\r\\n          Right now, he is tired and unamused, wearing a red \"Giorgio\\'s\\r\\n          Trattoria\" hat and a sweaty matching t-shirt.\\r\\n                         \\r\\n                          WILL\\r\\n           Gimme a break. You guys live two\\r\\n           towns away. It\\'s pretty much fucking\\r\\n           impossible to get here in 30 minutes.\\r\\n                         \\r\\n                          OTHER 15-YEAR-OLD\\r\\n           Exactly. That\\'s why we ordered from\\r\\n           your shitty \"trattoria.\"\\r\\n                         \\r\\n                          WILL\\r\\n           This is gonna come out of my paycheck.\\r\\n           You sure you don\\'t want to take the\\r\\n           moral high ground?\\r\\n                         \\r\\n                          OTHER 15-YEAR-OLD\\r\\n           We\\'d rather take the pizzas.\\r\\n                         \\r\\n          Will takes a calming breath. Hands over the pizzas.\\r\\n                         \\r\\n                          WILL\\r\\n           Ok. You guys are pretty smart. You\\r\\n           figured out a way to beat the system.\\r\\n                          (PEEKS INSIDE)\\r\\n           Got the house to yourselves?\\r\\n                         \\r\\n                          15-YEAR-OLD\\r\\n           That\\'s right.\\r\\n                         \\r\\n                          WILL\\r\\n           Not bad. Any jailbait in there?\\r\\n           Little pizza and a rainbow party?\\r\\n                         \\r\\n          The kids shakes their heads.\\r\\n                         \\r\\n                          WILL\\r\\n           Seriously? Well, two hustlers like\\r\\n           yourselves gotta have the place\\r\\n           stocked with beer and whippits and\\r\\n           shit, right? Just call the girls up\\r\\n           and let them know the party\\'s on.\\r\\n                         \\r\\n                          15-YEAR-OLD\\r\\n           Man, we don\\'t have any of that stuff.\\r\\n                         \\r\\n          Will makes a show of mulling this over.\\r\\n                         \\r\\n                          WILL\\r\\n           I really shouldn\\'t do this...but you\\r\\n           seem like a couple of good dudes.\\r\\n           I\\'ll tell you what, you give me the\\r\\n           money that your mom left you for the\\r\\n           pizzas, and I\\'ll grab you some beers.\\r\\n                          (MORE)'"
      ]
     },
     "execution_count": 30,
     "metadata": {},
     "output_type": "execute_result"
    }
   ],
   "source": [
    "from langchain_community.document_loaders import IMSDbLoader\n",
    "\n",
    "loader = IMSDbLoader(\"https://imsdb.com/scripts/30-Minutes-or-Less.html\")\n",
    "data=loader.load()\n",
    "\n",
    "formatted_text=data[0].page_content[:5000].strip()\n",
    "\n",
    "formatted_text"
   ]
  },
  {
   "cell_type": "markdown",
   "metadata": {},
   "source": [
    "### Youtube Loader"
   ]
  },
  {
   "cell_type": "code",
   "execution_count": 32,
   "metadata": {},
   "outputs": [
    {
     "name": "stdout",
     "output_type": "stream",
     "text": [
      "Collecting youtube-transcript-apiNote: you may need to restart the kernel to use updated packages.\n",
      "\n",
      "  Downloading youtube_transcript_api-0.6.2-py3-none-any.whl.metadata (15 kB)\n",
      "Requirement already satisfied: requests in c:\\users\\kiit\\appdata\\local\\programs\\python\\python39\\lib\\site-packages (from youtube-transcript-api) (2.32.3)\n",
      "Requirement already satisfied: charset-normalizer<4,>=2 in c:\\users\\kiit\\appdata\\local\\programs\\python\\python39\\lib\\site-packages (from requests->youtube-transcript-api) (3.0.1)\n",
      "Requirement already satisfied: idna<4,>=2.5 in c:\\users\\kiit\\appdata\\local\\programs\\python\\python39\\lib\\site-packages (from requests->youtube-transcript-api) (3.4)\n",
      "Requirement already satisfied: urllib3<3,>=1.21.1 in c:\\users\\kiit\\appdata\\local\\programs\\python\\python39\\lib\\site-packages (from requests->youtube-transcript-api) (1.26.14)\n",
      "Requirement already satisfied: certifi>=2017.4.17 in c:\\users\\kiit\\appdata\\local\\programs\\python\\python39\\lib\\site-packages (from requests->youtube-transcript-api) (2022.12.7)\n",
      "Downloading youtube_transcript_api-0.6.2-py3-none-any.whl (24 kB)\n",
      "Installing collected packages: youtube-transcript-api\n",
      "Successfully installed youtube-transcript-api-0.6.2\n"
     ]
    }
   ],
   "source": [
    "%pip install youtube-transcript-api"
   ]
  },
  {
   "cell_type": "code",
   "execution_count": 33,
   "metadata": {},
   "outputs": [
    {
     "data": {
      "text/plain": [
       "\"we know humans learn from their past experiences and machines follow instructions given by humans but what if humans can train the machines to learn from the past data and do what humans can do and much faster well that's called machine learning but it's a lot more than just learning it's also about understanding and reasoning so today we will learn about the basics of machine learning so that's paul he loves listening to new songs he either likes them or dislikes them paul decides this on the basis of the song's tempo genre intensity and the gender of voice for simplicity let's just use tempo and intensity for now so here tempo is on the x axis ranging from relaxed to fast whereas intensity is on the y axis ranging from light to soaring we see that paul likes the song with fast tempo and soaring intensity while he dislikes the song with relaxed tempo and light intensity so now we know paul's choices let's say paul listens to a new song let's name it as song a song a has fast tempo and a soaring intensity so it lies somewhere here looking at the data can you guess whether paul will like the song or not correct so paul likes this song by looking at paul's past choices we were able to classify the unknown song very easily right let's say now paul listens to a new song let's label it as song b so song b lies somewhere here with medium tempo and medium intensity neither relaxed nor fast neither light nor soaring now can you guess whether paul likes it or not not able to guess whether paul will like it or dislike it are the choices unclear correct we could easily classify song a but when the choice became complicated as in the case of song b yes and that's where machine learning comes in let's see how in the same example for song b if we draw a circle around the song b we see that there are four votes for like whereas one would for dislike if we go for the majority votes we can say that paul will definitely like the song that's all this was a basic machine learning algorithm also it's called k nearest neighbors so this is just a small example in one of the many machine learning algorithms quite easy right believe me it is but what happens when the choices become complicated as in the case of song b that's when machine learning comes in it learns the data builds the prediction model and when the new data point comes in it can easily predict for it more the data better the model higher will be the accuracy there are many ways in which the machine learns it could be either supervised learning unsupervised learning or reinforcement learning let's first quickly understand supervised learning suppose your friend gives you one million coins of three different currencies say one rupee one euro and one dirham each coin has different weights for example a coin of one rupee weighs three grams one euro weighs seven grams and one dirham weighs four grams your model will predict the currency of the coin here your weight becomes the feature of coins while currency becomes the label when you feed this data to the machine learning model it learns which feature is associated with which label for example it will learn that if a coin is of 3 grams it will be a 1 rupee coin let's give a new coin to the machine on the basis of the weight of the new coin your model will predict the currency hence supervised learning uses labeled data to train the model here the machine knew the features of the object and also the labels associated with those features on this note let's move to unsupervised learning and see the difference suppose you have cricket data set of various players with their respective scores and wickets taken when you feed this data set to the machine the machine identifies the pattern of player performance so it plots this data with the respective wickets on the x-axis while runs on the y-axis while looking at the data you'll clearly see that there are two clusters the one cluster are the players who scored higher runs and took less wickets while the other cluster is of the players who scored less runs but took many wickets so here we interpret these two clusters as batsmen and bowlers the important point to note here is that there were no labels of batsmen and bowlers hence the learning with unlabeled data is unsupervised learning so we saw supervised learning where the data was labeled and the unsupervised learning where the data was unlabeled and then there is reinforcement learning which is a reward based learning or we can say that it works on the principle of feedback here let's say you provide the system with an image of a dog and ask it to identify it the system identifies it as a cat so you give a negative feedback to the machine saying that it's a dog's image the machine will learn from the feedback and finally if it comes across any other image of a dog it will be able to classify it correctly that is reinforcement learning to generalize machine learning model let's see a flowchart input is given to a machine lea\""
      ]
     },
     "execution_count": 33,
     "metadata": {},
     "output_type": "execute_result"
    }
   ],
   "source": [
    "from langchain_community.document_loaders import YoutubeLoader\n",
    "\n",
    "loader = YoutubeLoader.from_youtube_url(\"https://www.youtube.com/watch?v=ukzFI9rgwfU&pp=ygUabWFjaGluZSBsZWFybmluZ2luIGVuZ2xpc2g%3D\")\n",
    "data=loader.load()\n",
    "\n",
    "formatted_text=data[0].page_content[:5000].strip()\n",
    "\n",
    "formatted_text"
   ]
  },
  {
   "cell_type": "code",
   "execution_count": 35,
   "metadata": {},
   "outputs": [
    {
     "name": "stdout",
     "output_type": "stream",
     "text": [
      "Collecting pytube\n",
      "  Downloading pytube-15.0.0-py3-none-any.whl.metadata (5.0 kB)\n",
      "Downloading pytube-15.0.0-py3-none-any.whl (57 kB)\n",
      "Installing collected packages: pytube\n",
      "Successfully installed pytube-15.0.0\n",
      "Note: you may need to restart the kernel to use updated packages.\n"
     ]
    }
   ],
   "source": [
    "pip install pytube"
   ]
  },
  {
   "cell_type": "code",
   "execution_count": 36,
   "metadata": {},
   "outputs": [
    {
     "data": {
      "text/plain": [
       "[Document(metadata={'source': 'ukzFI9rgwfU', 'title': 'Machine Learning | What Is Machine Learning? | Introduction To Machine Learning | 2024 | Simplilearn', 'description': 'Unknown', 'view_count': 4559431, 'thumbnail_url': 'https://i.ytimg.com/vi/ukzFI9rgwfU/hq720.jpg', 'publish_date': '2018-09-19 00:00:00', 'length': 472, 'author': 'Simplilearn'}, page_content=\"we know humans learn from their past  experiences  and machines follow instructions given  by humans  but what if humans can train the  machines to learn from the past data and  do what humans can do and much faster  well that's called machine learning but  it's a lot more than just learning it's  also about understanding and reasoning  so today we will learn about the basics  of machine learning  so that's paul he loves listening to new  songs  he either likes them or dislikes them  paul decides this on the basis of the  song's tempo  genre  intensity and the gender of voice for  simplicity let's just use tempo and  intensity for now so here tempo is on  the x axis ranging from relaxed to fast  whereas intensity is on the y axis  ranging from light to soaring we see  that paul likes the song with fast tempo  and soaring intensity while he dislikes  the song with relaxed tempo and light  intensity so now we know paul's choices  let's say paul listens to a new song  let's name it as song a song a has fast  tempo and a soaring intensity so it lies  somewhere here looking at the data can  you guess whether paul will like the  song or not correct so paul likes this  song by looking at paul's past choices  we were able to classify the unknown  song very easily right let's say now  paul listens to a new song let's label  it as song b so song b  lies somewhere here with medium tempo  and medium intensity neither relaxed nor  fast neither light nor soaring now can  you guess whether paul likes it or not  not able to guess whether paul will like  it or dislike it are the choices unclear  correct we could easily classify song a  but when the choice became complicated  as in the case of song b yes and that's  where machine learning comes in let's  see how in the same example for song b  if we draw a circle around the song b we  see that there are four votes for like  whereas one would for dislike if we go  for the majority votes we can say that  paul will definitely like the song  that's all this was a basic machine  learning algorithm also it's called k  nearest neighbors so this is just a  small example in one of the many machine  learning algorithms quite easy right  believe me it is but what happens when  the choices become complicated as in the  case of song b that's when machine  learning comes in it learns the data  builds the prediction model and when the  new data point comes in it can easily  predict for it more the data better the  model higher will be the accuracy there  are many ways in which the machine  learns it could be either supervised  learning unsupervised learning or  reinforcement learning let's first  quickly understand supervised learning  suppose your friend gives you one  million coins of three different  currencies say one rupee one euro and  one dirham each coin has different  weights for example a coin of one rupee  weighs three grams one euro weighs seven  grams and one dirham weighs four grams  your model will predict the currency of  the coin here your weight becomes the  feature of coins while currency becomes  the label when you feed this data to the  machine learning model it learns which  feature is associated with which label  for example it will learn that if a coin  is of 3 grams it will be a 1 rupee coin  let's give a new coin to the machine on  the basis of the weight of the new coin  your model will predict the currency  hence supervised learning uses labeled  data to train the model here the machine  knew the features of the object and also  the labels associated with those  features on this note let's move to  unsupervised learning and see the  difference suppose you have cricket data  set of various players with their  respective scores and wickets taken when  you feed this data set to the machine  the machine identifies the pattern of  player performance so it plots this data  with the respective wickets on the  x-axis while runs on the y-axis while  looking at the data you'll clearly see  that there are two clusters the one  cluster are the players who scored  higher runs and took less wickets while  the other cluster is of the players who  scored less runs but took many wickets  so here we interpret these two clusters  as batsmen and bowlers the important  point to note here is that there were no  labels of batsmen and bowlers hence the  learning with unlabeled data is  unsupervised learning so we saw  supervised learning where the data was  labeled and the unsupervised learning  where the data was unlabeled and then  there is reinforcement learning which is  a reward based learning or we can say  that it works on the principle of  feedback here let's say you provide the  system with an image of a dog and ask it  to identify it the system identifies it  as a cat so you give a negative feedback  to the machine saying that it's a dog's  image the machine will learn from the  feedback and finally if it comes across  any other image of a dog it will be able  to classify it correctly that is  reinforcement learning to generalize  machine learning model let's see a  flowchart input is given to a machine  learning model which then gives the  output according to the algorithm  applied if it's right we take the output  as a final result else we provide  feedback to the training model and ask  it to predict until it learns i hope  you've understood supervised and  unsupervised learning so let's have a  quick quiz you have to determine whether  the given scenarios uses supervised or  unsupervised learning simple right  scenario one facebook recognizes your  friend in a picture from an album of  tagged photographs  scenario 2 netflix recommends new movies  based on someone's past movie choices  scenario 3 analyzing bank data for  suspicious transactions and flagging the  fraud transactions think wisely and  comment below your answers moving on  don't you sometimes wonder how is  machine learning possible in today's era  well that's because today we have  humongous data available everybody is  online either making a transaction or  just surfing the internet and that's  generating a huge amount of data every  minute and that data my friend is the  key to analysis also the memory handling  capabilities of computers have largely  increased which helps them to process  such huge amount of data at hand without  any delay and yes computers now have  great computational powers so there are  a lot of applications of machine  learning out there to name a few machine  learning is used in healthcare where  diagnostics are predicted for doctor's  review the sentiment analysis that the  tech giants are doing on social media is  another interesting application of  machine learning fraud detection in the  finance sector and also to predict  customer churn in the e-commerce sector  while booking a gap you must have  encountered surge pricing often where it  says the fair of your trip has been  updated continue booking yes please i'm  getting late for office  well that's an interesting machine  learning model which is used by global  taxi giant uber and others where they  have differential pricing in real time  based on demand the number of cars  available bad weather rush r etc so they  use the surge pricing model to ensure  that those who need a cab can get one  also it uses predictive modeling to  predict where the demand will be high  with the goal that drivers can take care  of the demand and search pricing can be  minimized great hey siri can you remind  me to book a cab at 6 pm today ok i'll  remind you  thanks no problem comment below some  interesting everyday examples around you  where machines are learning and doing  amazing jobs so that's all for machine  learning basics today from my site keep  watching this space for more interesting  videos until then happy learning\")]"
      ]
     },
     "execution_count": 36,
     "metadata": {},
     "output_type": "execute_result"
    }
   ],
   "source": [
    "loader = YoutubeLoader.from_youtube_url(\"https://www.youtube.com/watch?v=ukzFI9rgwfU&pp=ygUabWFjaGluZSBsZWFybmluZ2luIGVuZ2xpc2g%3D\",\n",
    "                                        add_video_info=True,\n",
    "                                        language=[\"en\",\"id\"],\n",
    "                                        translation=\"en\")\n",
    "ytdata=loader.load()\n",
    "ytdata"
   ]
  },
  {
   "cell_type": "markdown",
   "metadata": {},
   "source": [
    "## Text Splitters"
   ]
  },
  {
   "cell_type": "code",
   "execution_count": 38,
   "metadata": {},
   "outputs": [],
   "source": [
    "from langchain.text_splitter import CharacterTextSplitter\n",
    "\n",
    "text_splitter = CharacterTextSplitter(\n",
    "    separator=\"\\n\\n\",\n",
    "    chunk_size=200,\n",
    "    chunk_overlap=20,\n",
    "    length_function=len,\n",
    "    is_separator_regex=False\n",
    ")"
   ]
  },
  {
   "cell_type": "code",
   "execution_count": 39,
   "metadata": {},
   "outputs": [],
   "source": [
    "loader = WebBaseLoader(\"https://www.ibm.com/in-en\")\n",
    "data = loader.load()"
   ]
  },
  {
   "cell_type": "code",
   "execution_count": 40,
   "metadata": {},
   "outputs": [
    {
     "name": "stderr",
     "output_type": "stream",
     "text": [
      "Created a chunk of size 223, which is longer than the specified 200\n"
     ]
    },
    {
     "data": {
      "text/plain": [
       "29"
      ]
     },
     "execution_count": 40,
     "metadata": {},
     "output_type": "execute_result"
    }
   ],
   "source": [
    "chunks=text_splitter.split_text(data[0].page_content)\n",
    "len(chunks)"
   ]
  },
  {
   "cell_type": "code",
   "execution_count": 41,
   "metadata": {},
   "outputs": [
    {
     "name": "stdout",
     "output_type": "stream",
     "text": [
      "IBM - India\n",
      "\n",
      "Fortify your data, systems and enterprise with security AI\n",
      "\n",
      " \n",
      "\n",
      "\n",
      "  \n",
      "  \n",
      "      Deploy AI-infused cybersecurity solutions that prevent breaches and evolve with your business\n",
      "-------------\n",
      "Read Cost of a Data Breach 2024\n",
      "\n",
      "\n",
      "Explore AI cybersecurity solutions\n",
      "\n",
      "\n",
      "                                \n",
      "\n",
      "\n",
      "  \n",
      "  \n",
      "      Latest news\n",
      "-------------\n",
      "IBM Report: Escalating Data Breach Disruption Pushes Average Cost of a Data Breach in India to All-Time High of INR 195 Million in 2024\n",
      "\n",
      "IBM to launch a GenAI Innovation Center in Kochi\n",
      "-------------\n",
      "IBM and the Government of Gujarat sign MoU to establish AI Cluster in GIFT City to drive AI innovation and collaboration\n",
      "-------------\n",
      "IBM Study: Indian CEOs Say There Is No Effective AI Without Effective Governance, But Most Don’t Have the Policies in Place Yet\n",
      "\n",
      "IBM and Microsoft Collaborate to Launch Experience Zone in Bangalore\n",
      "-------------\n",
      "76% of Indian enterprises intend to boost investments in Gen AI to enhance sustainability efforts—moving beyond just “doing sustainability’: IBM Study\n",
      "-------------\n",
      "IBM and C-DAC aim to accelerate India’s processor design and manufacturing capabilities for High Performance Computing (HPC)\n",
      "-------------\n",
      "IBM expands Technology Expert Labs in India to accelerate adoption of Generative AI and other key technologies\n",
      "\n",
      "Recommended for you\n",
      "-------------\n",
      "High-speed, resilient, easy-to-manage storage\n",
      "-------------\n",
      "Drive top-line revenue and enhance productivity with a 360-degree view of sales activity\n",
      "-------------\n",
      "Automatically observe, monitor and fix your entire application stack with IBM Instana\n",
      "-------------\n",
      "Understand what would it take to trust the output of an AI model\n",
      "        \n",
      "    \n",
      "\n",
      "    \n",
      "\n",
      "        \n",
      "\n",
      "\n",
      "            \n",
      "\n",
      "  \n",
      "    Browse our technology\n",
      "-------------\n",
      "From our flagship products for enterprise hybrid cloud infrastructure to next-generation AI, security and storage solutions, find the answer to your business challenge.\n",
      "-------------\n",
      "View all products\n",
      "                \n",
      "            \n",
      "\n",
      "                Meet watsonx\n",
      "                \n",
      "            \n",
      "\n",
      "\n",
      "                        \n",
      "                        AI & machine learning\n",
      "-------------\n",
      "Use IBM Watsonx’s AI or build your own machine learning models\n",
      "\n",
      "\n",
      "                        \n",
      "                        Analytics\n",
      "\n",
      "Aggregate and analyze large datasets\n",
      "-------------\n",
      "Compute & servers\n",
      "\n",
      "Run workloads on hybrid cloud infrastructure\n",
      "\n",
      "\n",
      "                        \n",
      "                        Databases\n",
      "-------------\n",
      "Store, query and analyze structured data\n",
      "\n",
      "\n",
      "                        \n",
      "                        DevOps\n",
      "\n",
      "Manage infrastructure, environments and deployments\n",
      "-------------\n",
      "IT automation\n",
      "\n",
      "Automate IT infrastructure management\n",
      "\n",
      "\n",
      "                        \n",
      "                        Quantum\n",
      "-------------\n",
      "Run code on real quantum systems using a full-stack SDK\n",
      "\n",
      "\n",
      "                        \n",
      "                        Security & identity\n",
      "\n",
      "Cloud-native software to secure resources and simplify compliance\n",
      "-------------\n",
      "Case Study\n",
      "                \n",
      "\n",
      "                    Enhancing inventory visibility with a modernized order management system\n",
      "-------------\n",
      "Aditya Birla Fashion Retail Limited (ABFRL) deploys the omnichannel order fulfillment solution IBM Sterling Order Management to address order fulfillment and inventory management issues.\n",
      "-------------\n",
      "Learn more\n",
      "\n",
      "            \n",
      "\n",
      "  \n",
      "    Meet our global consultants\n",
      "-------------\n",
      "Bringing together a diverse set of voices with new technology, we collaborate closely, ideate freely and swiftly apply breakthrough innovations that drive big impact.\n",
      "-------------\n",
      "View IBM Consulting\n",
      "                \n",
      "            \n",
      "\n",
      "\n",
      "            \n",
      "\n",
      "  \n",
      "    Inside IBM\n",
      "-------------\n",
      "Solving the world’s problems through technology wouldn’t be possible without our most important invention: the IBMer. Have a look at our talented teams.\n",
      "-------------\n",
      "About IBM\n",
      "                \n",
      "            \n",
      "\n",
      "            Careers at IBM\n",
      "        \n",
      "\n",
      "            From safer food supply to ethical AI, tackle the world's toughest problems\n",
      "-------------\n",
      "IBM Research\n",
      "        \n",
      "\n",
      "            See the latest technology developed by IBM scientists and design thinkers\n",
      "        \n",
      "\n",
      "            Training and skills\n",
      "-------------\n",
      "Power your future in tech with job skills, courses and credentials—for free\n",
      "        \n",
      "\n",
      "            Corporate social responsibility\n",
      "-------------\n",
      "IBM aspires to make a positive impact on the world and the places where we work and live\n",
      "-------------\n"
     ]
    }
   ],
   "source": [
    "for chunk in chunks:\n",
    "    print(chunk)\n",
    "    print(\"-------------\")"
   ]
  },
  {
   "cell_type": "code",
   "execution_count": 42,
   "metadata": {},
   "outputs": [
    {
     "name": "stderr",
     "output_type": "stream",
     "text": [
      "Created a chunk of size 223, which is longer than the specified 200\n"
     ]
    },
    {
     "data": {
      "text/plain": [
       "29"
      ]
     },
     "execution_count": 42,
     "metadata": {},
     "output_type": "execute_result"
    }
   ],
   "source": [
    "documents = text_splitter.create_documents([data[0].page_content])\n",
    "len(documents)"
   ]
  },
  {
   "cell_type": "code",
   "execution_count": 43,
   "metadata": {},
   "outputs": [
    {
     "name": "stdout",
     "output_type": "stream",
     "text": [
      "page_content='IBM - India\n",
      "\n",
      "Fortify your data, systems and enterprise with security AI\n",
      "\n",
      " \n",
      "\n",
      "\n",
      "  \n",
      "  \n",
      "      Deploy AI-infused cybersecurity solutions that prevent breaches and evolve with your business'\n",
      "----------\n",
      "page_content='Read Cost of a Data Breach 2024\n",
      "\n",
      "\n",
      "Explore AI cybersecurity solutions\n",
      "\n",
      "\n",
      "                                \n",
      "\n",
      "\n",
      "  \n",
      "  \n",
      "      Latest news'\n",
      "----------\n",
      "page_content='IBM Report: Escalating Data Breach Disruption Pushes Average Cost of a Data Breach in India to All-Time High of INR 195 Million in 2024\n",
      "\n",
      "IBM to launch a GenAI Innovation Center in Kochi'\n",
      "----------\n",
      "page_content='IBM and the Government of Gujarat sign MoU to establish AI Cluster in GIFT City to drive AI innovation and collaboration'\n",
      "----------\n",
      "page_content='IBM Study: Indian CEOs Say There Is No Effective AI Without Effective Governance, But Most Don’t Have the Policies in Place Yet\n",
      "\n",
      "IBM and Microsoft Collaborate to Launch Experience Zone in Bangalore'\n",
      "----------\n",
      "page_content='76% of Indian enterprises intend to boost investments in Gen AI to enhance sustainability efforts—moving beyond just “doing sustainability’: IBM Study'\n",
      "----------\n",
      "page_content='IBM and C-DAC aim to accelerate India’s processor design and manufacturing capabilities for High Performance Computing (HPC)'\n",
      "----------\n",
      "page_content='IBM expands Technology Expert Labs in India to accelerate adoption of Generative AI and other key technologies\n",
      "\n",
      "Recommended for you'\n",
      "----------\n",
      "page_content='High-speed, resilient, easy-to-manage storage'\n",
      "----------\n",
      "page_content='Drive top-line revenue and enhance productivity with a 360-degree view of sales activity'\n",
      "----------\n",
      "page_content='Automatically observe, monitor and fix your entire application stack with IBM Instana'\n",
      "----------\n",
      "page_content='Understand what would it take to trust the output of an AI model\n",
      "        \n",
      "    \n",
      "\n",
      "    \n",
      "\n",
      "        \n",
      "\n",
      "\n",
      "            \n",
      "\n",
      "  \n",
      "    Browse our technology'\n",
      "----------\n",
      "page_content='From our flagship products for enterprise hybrid cloud infrastructure to next-generation AI, security and storage solutions, find the answer to your business challenge.'\n",
      "----------\n",
      "page_content='View all products\n",
      "                \n",
      "            \n",
      "\n",
      "                Meet watsonx\n",
      "                \n",
      "            \n",
      "\n",
      "\n",
      "                        \n",
      "                        AI & machine learning'\n",
      "----------\n",
      "page_content='Use IBM Watsonx’s AI or build your own machine learning models\n",
      "\n",
      "\n",
      "                        \n",
      "                        Analytics\n",
      "\n",
      "Aggregate and analyze large datasets'\n",
      "----------\n",
      "page_content='Compute & servers\n",
      "\n",
      "Run workloads on hybrid cloud infrastructure\n",
      "\n",
      "\n",
      "                        \n",
      "                        Databases'\n",
      "----------\n",
      "page_content='Store, query and analyze structured data\n",
      "\n",
      "\n",
      "                        \n",
      "                        DevOps\n",
      "\n",
      "Manage infrastructure, environments and deployments'\n",
      "----------\n",
      "page_content='IT automation\n",
      "\n",
      "Automate IT infrastructure management\n",
      "\n",
      "\n",
      "                        \n",
      "                        Quantum'\n",
      "----------\n",
      "page_content='Run code on real quantum systems using a full-stack SDK\n",
      "\n",
      "\n",
      "                        \n",
      "                        Security & identity\n",
      "\n",
      "Cloud-native software to secure resources and simplify compliance'\n",
      "----------\n",
      "page_content='Case Study\n",
      "                \n",
      "\n",
      "                    Enhancing inventory visibility with a modernized order management system'\n",
      "----------\n",
      "page_content='Aditya Birla Fashion Retail Limited (ABFRL) deploys the omnichannel order fulfillment solution IBM Sterling Order Management to address order fulfillment and inventory management issues.'\n",
      "----------\n",
      "page_content='Learn more\n",
      "\n",
      "            \n",
      "\n",
      "  \n",
      "    Meet our global consultants'\n",
      "----------\n",
      "page_content='Bringing together a diverse set of voices with new technology, we collaborate closely, ideate freely and swiftly apply breakthrough innovations that drive big impact.'\n",
      "----------\n",
      "page_content='View IBM Consulting\n",
      "                \n",
      "            \n",
      "\n",
      "\n",
      "            \n",
      "\n",
      "  \n",
      "    Inside IBM'\n",
      "----------\n",
      "page_content='Solving the world’s problems through technology wouldn’t be possible without our most important invention: the IBMer. Have a look at our talented teams.'\n",
      "----------\n",
      "page_content='About IBM\n",
      "                \n",
      "            \n",
      "\n",
      "            Careers at IBM\n",
      "        \n",
      "\n",
      "            From safer food supply to ethical AI, tackle the world's toughest problems'\n",
      "----------\n",
      "page_content='IBM Research\n",
      "        \n",
      "\n",
      "            See the latest technology developed by IBM scientists and design thinkers\n",
      "        \n",
      "\n",
      "            Training and skills'\n",
      "----------\n",
      "page_content='Power your future in tech with job skills, courses and credentials—for free\n",
      "        \n",
      "\n",
      "            Corporate social responsibility'\n",
      "----------\n",
      "page_content='IBM aspires to make a positive impact on the world and the places where we work and live'\n",
      "----------\n"
     ]
    }
   ],
   "source": [
    "for doc in documents:\n",
    "    print(doc)\n",
    "    print(\"----------\")"
   ]
  },
  {
   "cell_type": "markdown",
   "metadata": {},
   "source": [
    "### Recursive Character Text Splitter"
   ]
  },
  {
   "cell_type": "code",
   "execution_count": 44,
   "metadata": {},
   "outputs": [],
   "source": [
    "from langchain.text_splitter import RecursiveCharacterTextSplitter\n",
    "rectext_splitter = RecursiveCharacterTextSplitter(\n",
    "    \n",
    "    chunk_size=100,\n",
    "    chunk_overlap=20,\n",
    "    length_function=len,\n",
    "    is_separator_regex=False\n",
    ")"
   ]
  },
  {
   "cell_type": "code",
   "execution_count": 45,
   "metadata": {},
   "outputs": [],
   "source": [
    "texts=rectext_splitter.create_documents([data[0].page_content])"
   ]
  },
  {
   "cell_type": "code",
   "execution_count": 46,
   "metadata": {},
   "outputs": [
    {
     "name": "stdout",
     "output_type": "stream",
     "text": [
      "page_content='IBM - India'\n",
      "------------\n",
      "page_content='Fortify your data, systems and enterprise with security AI'\n",
      "------------\n",
      "page_content='Deploy AI-infused cybersecurity solutions that prevent breaches and evolve with your business'\n",
      "------------\n",
      "page_content='Read Cost of a Data Breach 2024\n",
      "\n",
      "\n",
      "Explore AI cybersecurity solutions'\n",
      "------------\n",
      "page_content='Latest news'\n",
      "------------\n",
      "page_content='IBM Report: Escalating Data Breach Disruption Pushes Average Cost of a Data Breach in India to'\n",
      "------------\n",
      "page_content='Breach in India to All-Time High of INR 195 Million in 2024'\n",
      "------------\n",
      "page_content='IBM to launch a GenAI Innovation Center in Kochi'\n",
      "------------\n",
      "page_content='IBM and the Government of Gujarat sign MoU to establish AI Cluster in GIFT City to drive AI'\n",
      "------------\n",
      "page_content='City to drive AI innovation and collaboration'\n",
      "------------\n",
      "page_content='IBM Study: Indian CEOs Say There Is No Effective AI Without Effective Governance, But Most Don’t'\n",
      "------------\n",
      "page_content='But Most Don’t Have the Policies in Place Yet'\n",
      "------------\n",
      "page_content='IBM and Microsoft Collaborate to Launch Experience Zone in Bangalore'\n",
      "------------\n",
      "page_content='76% of Indian enterprises intend to boost investments in Gen AI to enhance sustainability'\n",
      "------------\n",
      "page_content='sustainability efforts—moving beyond just “doing sustainability’: IBM Study'\n",
      "------------\n",
      "page_content='IBM and C-DAC aim to accelerate India’s processor design and manufacturing capabilities for High'\n",
      "------------\n",
      "page_content='for High Performance Computing (HPC)'\n",
      "------------\n",
      "page_content='IBM expands Technology Expert Labs in India to accelerate adoption of Generative AI and other key'\n",
      "------------\n",
      "page_content='AI and other key technologies'\n",
      "------------\n",
      "page_content='Recommended for you'\n",
      "------------\n",
      "page_content='High-speed, resilient, easy-to-manage storage'\n",
      "------------\n",
      "page_content='Drive top-line revenue and enhance productivity with a 360-degree view of sales activity'\n",
      "------------\n",
      "page_content='Automatically observe, monitor and fix your entire application stack with IBM Instana'\n",
      "------------\n",
      "page_content='Understand what would it take to trust the output of an AI model'\n",
      "------------\n",
      "page_content='Browse our technology'\n",
      "------------\n",
      "page_content='From our flagship products for enterprise hybrid cloud infrastructure to next-generation AI,'\n",
      "------------\n",
      "page_content='next-generation AI, security and storage solutions, find the answer to your business challenge.'\n",
      "------------\n",
      "page_content='View all products'\n",
      "------------\n",
      "page_content='Meet watsonx'\n",
      "------------\n",
      "page_content='AI & machine learning'\n",
      "------------\n",
      "page_content='Use IBM Watsonx’s AI or build your own machine learning models'\n",
      "------------\n",
      "page_content='Analytics'\n",
      "------------\n",
      "page_content='Aggregate and analyze large datasets'\n",
      "------------\n",
      "page_content='Compute & servers'\n",
      "------------\n",
      "page_content='Run workloads on hybrid cloud infrastructure'\n",
      "------------\n",
      "page_content='Databases'\n",
      "------------\n",
      "page_content='Store, query and analyze structured data'\n",
      "------------\n",
      "page_content='DevOps'\n",
      "------------\n",
      "page_content='Manage infrastructure, environments and deployments'\n",
      "------------\n",
      "page_content='IT automation'\n",
      "------------\n",
      "page_content='Automate IT infrastructure management'\n",
      "------------\n",
      "page_content='Quantum'\n",
      "------------\n",
      "page_content='Run code on real quantum systems using a full-stack SDK'\n",
      "------------\n",
      "page_content='Security & identity'\n",
      "------------\n",
      "page_content='Cloud-native software to secure resources and simplify compliance'\n",
      "------------\n",
      "page_content='Case Study'\n",
      "------------\n",
      "page_content='Enhancing inventory visibility with a modernized order management system'\n",
      "------------\n",
      "page_content='Aditya Birla Fashion Retail Limited (ABFRL) deploys the omnichannel order'\n",
      "------------\n",
      "page_content='omnichannel order fulfillment solution IBM Sterling Order Management to address order fulfillment'\n",
      "------------\n",
      "page_content='order fulfillment and inventory management issues.'\n",
      "------------\n",
      "page_content='Learn more\n",
      "\n",
      "\n",
      "\n",
      "\n",
      "\n",
      "\n",
      "\n",
      "\n",
      "\n",
      "            \n",
      "\n",
      "\n",
      "\n",
      "  \n",
      "    Meet our global consultants'\n",
      "------------\n",
      "page_content='Bringing together a diverse set of voices with new technology, we collaborate closely, ideate'\n",
      "------------\n",
      "page_content='closely, ideate freely and swiftly apply breakthrough innovations that drive big impact.'\n",
      "------------\n",
      "page_content='View IBM Consulting'\n",
      "------------\n",
      "page_content='Inside IBM'\n",
      "------------\n",
      "page_content='Solving the world’s problems through technology wouldn’t be possible without our most important'\n",
      "------------\n",
      "page_content='our most important invention: the IBMer. Have a look at our talented teams.'\n",
      "------------\n",
      "page_content='About IBM'\n",
      "------------\n",
      "page_content='Careers at IBM'\n",
      "------------\n",
      "page_content='From safer food supply to ethical AI, tackle the world's toughest problems'\n",
      "------------\n",
      "page_content='IBM Research'\n",
      "------------\n",
      "page_content='See the latest technology developed by IBM scientists and design thinkers'\n",
      "------------\n",
      "page_content='Training and skills'\n",
      "------------\n",
      "page_content='Power your future in tech with job skills, courses and credentials—for free'\n",
      "------------\n",
      "page_content='Corporate social responsibility'\n",
      "------------\n",
      "page_content='IBM aspires to make a positive impact on the world and the places where we work and'\n",
      "------------\n",
      "page_content='where we work and live'\n",
      "------------\n"
     ]
    }
   ],
   "source": [
    "for text in texts:\n",
    "    print(text)\n",
    "    print(\"------------\")"
   ]
  },
  {
   "cell_type": "code",
   "execution_count": null,
   "metadata": {},
   "outputs": [],
   "source": []
  }
 ],
 "metadata": {
  "kernelspec": {
   "display_name": "Python 3",
   "language": "python",
   "name": "python3"
  },
  "language_info": {
   "codemirror_mode": {
    "name": "ipython",
    "version": 3
   },
   "file_extension": ".py",
   "mimetype": "text/x-python",
   "name": "python",
   "nbconvert_exporter": "python",
   "pygments_lexer": "ipython3",
   "version": "3.9.13"
  }
 },
 "nbformat": 4,
 "nbformat_minor": 2
}
